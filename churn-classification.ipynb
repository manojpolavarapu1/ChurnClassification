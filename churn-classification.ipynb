{
 "cells": [
  {
   "cell_type": "code",
   "execution_count": 1,
   "id": "c7352bb9",
   "metadata": {
    "_cell_guid": "b1076dfc-b9ad-4769-8c92-a6c4dae69d19",
    "_uuid": "8f2839f25d086af736a60e9eeb907d3b93b6e0e5",
    "execution": {
     "iopub.execute_input": "2024-04-19T21:09:33.505536Z",
     "iopub.status.busy": "2024-04-19T21:09:33.504078Z",
     "iopub.status.idle": "2024-04-19T21:09:34.574123Z",
     "shell.execute_reply": "2024-04-19T21:09:34.572282Z"
    },
    "papermill": {
     "duration": 1.09871,
     "end_time": "2024-04-19T21:09:34.577632",
     "exception": false,
     "start_time": "2024-04-19T21:09:33.478922",
     "status": "completed"
    },
    "tags": []
   },
   "outputs": [
    {
     "name": "stdout",
     "output_type": "stream",
     "text": [
      "/kaggle/input/telco-customer-churn/WA_Fn-UseC_-Telco-Customer-Churn.csv\n"
     ]
    }
   ],
   "source": [
    "# This Python 3 environment comes with many helpful analytics libraries installed\n",
    "# It is defined by the kaggle/python Docker image: https://github.com/kaggle/docker-python\n",
    "# For example, here's several helpful packages to load\n",
    "\n",
    "import numpy as np # linear algebra\n",
    "import pandas as pd # data processing, CSV file I/O (e.g. pd.read_csv)\n",
    "\n",
    "# Input data files are available in the read-only \"../input/\" directory\n",
    "# For example, running this (by clicking run or pressing Shift+Enter) will list all files under the input directory\n",
    "\n",
    "import os\n",
    "for dirname, _, filenames in os.walk('/kaggle/input'):\n",
    "    for filename in filenames:\n",
    "        print(os.path.join(dirname, filename))\n",
    "\n",
    "# You can write up to 20GB to the current directory (/kaggle/working/) that gets preserved as output when you create a version using \"Save & Run All\" \n",
    "# You can also write temporary files to /kaggle/temp/, but they won't be saved outside of the current session"
   ]
  },
  {
   "cell_type": "code",
   "execution_count": 2,
   "id": "5cb75d30",
   "metadata": {
    "execution": {
     "iopub.execute_input": "2024-04-19T21:09:34.616968Z",
     "iopub.status.busy": "2024-04-19T21:09:34.616364Z",
     "iopub.status.idle": "2024-04-19T21:09:34.622303Z",
     "shell.execute_reply": "2024-04-19T21:09:34.621131Z"
    },
    "papermill": {
     "duration": 0.028495,
     "end_time": "2024-04-19T21:09:34.625078",
     "exception": false,
     "start_time": "2024-04-19T21:09:34.596583",
     "status": "completed"
    },
    "tags": []
   },
   "outputs": [],
   "source": [
    "import numpy as np\n",
    "import pandas as pd\n",
    "\n",
    "import matplotlib.pyplot as plt"
   ]
  },
  {
   "cell_type": "code",
   "execution_count": 3,
   "id": "c172d306",
   "metadata": {
    "execution": {
     "iopub.execute_input": "2024-04-19T21:09:34.663984Z",
     "iopub.status.busy": "2024-04-19T21:09:34.662936Z",
     "iopub.status.idle": "2024-04-19T21:09:34.738067Z",
     "shell.execute_reply": "2024-04-19T21:09:34.736772Z"
    },
    "papermill": {
     "duration": 0.09776,
     "end_time": "2024-04-19T21:09:34.741224",
     "exception": false,
     "start_time": "2024-04-19T21:09:34.643464",
     "status": "completed"
    },
    "tags": []
   },
   "outputs": [],
   "source": [
    "df = pd.read_csv(\"../input/telco-customer-churn/WA_Fn-UseC_-Telco-Customer-Churn.csv\")"
   ]
  },
  {
   "cell_type": "code",
   "execution_count": 4,
   "id": "68231396",
   "metadata": {
    "execution": {
     "iopub.execute_input": "2024-04-19T21:09:34.781325Z",
     "iopub.status.busy": "2024-04-19T21:09:34.780891Z",
     "iopub.status.idle": "2024-04-19T21:09:34.826075Z",
     "shell.execute_reply": "2024-04-19T21:09:34.824902Z"
    },
    "papermill": {
     "duration": 0.067963,
     "end_time": "2024-04-19T21:09:34.829300",
     "exception": false,
     "start_time": "2024-04-19T21:09:34.761337",
     "status": "completed"
    },
    "tags": []
   },
   "outputs": [
    {
     "name": "stdout",
     "output_type": "stream",
     "text": [
      "<class 'pandas.core.frame.DataFrame'>\n",
      "RangeIndex: 7043 entries, 0 to 7042\n",
      "Data columns (total 21 columns):\n",
      " #   Column            Non-Null Count  Dtype  \n",
      "---  ------            --------------  -----  \n",
      " 0   customerID        7043 non-null   object \n",
      " 1   gender            7043 non-null   object \n",
      " 2   SeniorCitizen     7043 non-null   int64  \n",
      " 3   Partner           7043 non-null   object \n",
      " 4   Dependents        7043 non-null   object \n",
      " 5   tenure            7043 non-null   int64  \n",
      " 6   PhoneService      7043 non-null   object \n",
      " 7   MultipleLines     7043 non-null   object \n",
      " 8   InternetService   7043 non-null   object \n",
      " 9   OnlineSecurity    7043 non-null   object \n",
      " 10  OnlineBackup      7043 non-null   object \n",
      " 11  DeviceProtection  7043 non-null   object \n",
      " 12  TechSupport       7043 non-null   object \n",
      " 13  StreamingTV       7043 non-null   object \n",
      " 14  StreamingMovies   7043 non-null   object \n",
      " 15  Contract          7043 non-null   object \n",
      " 16  PaperlessBilling  7043 non-null   object \n",
      " 17  PaymentMethod     7043 non-null   object \n",
      " 18  MonthlyCharges    7043 non-null   float64\n",
      " 19  TotalCharges      7043 non-null   object \n",
      " 20  Churn             7043 non-null   object \n",
      "dtypes: float64(1), int64(2), object(18)\n",
      "memory usage: 1.1+ MB\n"
     ]
    }
   ],
   "source": [
    "df.info()"
   ]
  },
  {
   "cell_type": "code",
   "execution_count": 5,
   "id": "bbb58684",
   "metadata": {
    "execution": {
     "iopub.execute_input": "2024-04-19T21:09:34.868015Z",
     "iopub.status.busy": "2024-04-19T21:09:34.867611Z",
     "iopub.status.idle": "2024-04-19T21:09:34.990355Z",
     "shell.execute_reply": "2024-04-19T21:09:34.989108Z"
    },
    "papermill": {
     "duration": 0.145461,
     "end_time": "2024-04-19T21:09:34.993172",
     "exception": false,
     "start_time": "2024-04-19T21:09:34.847711",
     "status": "completed"
    },
    "tags": []
   },
   "outputs": [],
   "source": [
    "df.columns = df.columns.str.lower().str.replace(\" \",\"_\")\n",
    "\n",
    "categorical_columns = list(df.dtypes[df.dtypes == 'object'].index)\n",
    "\n",
    "for c in categorical_columns:\n",
    "    df[c] = df[c].str.lower().str.replace(\" \",\"_\")"
   ]
  },
  {
   "cell_type": "code",
   "execution_count": 6,
   "id": "dc161e36",
   "metadata": {
    "execution": {
     "iopub.execute_input": "2024-04-19T21:09:35.034764Z",
     "iopub.status.busy": "2024-04-19T21:09:35.034327Z",
     "iopub.status.idle": "2024-04-19T21:09:35.058421Z",
     "shell.execute_reply": "2024-04-19T21:09:35.057172Z"
    },
    "papermill": {
     "duration": 0.048752,
     "end_time": "2024-04-19T21:09:35.061179",
     "exception": false,
     "start_time": "2024-04-19T21:09:35.012427",
     "status": "completed"
    },
    "tags": []
   },
   "outputs": [
    {
     "data": {
      "text/html": [
       "<div>\n",
       "<style scoped>\n",
       "    .dataframe tbody tr th:only-of-type {\n",
       "        vertical-align: middle;\n",
       "    }\n",
       "\n",
       "    .dataframe tbody tr th {\n",
       "        vertical-align: top;\n",
       "    }\n",
       "\n",
       "    .dataframe thead th {\n",
       "        text-align: right;\n",
       "    }\n",
       "</style>\n",
       "<table border=\"1\" class=\"dataframe\">\n",
       "  <thead>\n",
       "    <tr style=\"text-align: right;\">\n",
       "      <th></th>\n",
       "      <th>0</th>\n",
       "      <th>1</th>\n",
       "      <th>2</th>\n",
       "      <th>3</th>\n",
       "      <th>4</th>\n",
       "    </tr>\n",
       "  </thead>\n",
       "  <tbody>\n",
       "    <tr>\n",
       "      <th>customerid</th>\n",
       "      <td>7590-vhveg</td>\n",
       "      <td>5575-gnvde</td>\n",
       "      <td>3668-qpybk</td>\n",
       "      <td>7795-cfocw</td>\n",
       "      <td>9237-hqitu</td>\n",
       "    </tr>\n",
       "    <tr>\n",
       "      <th>gender</th>\n",
       "      <td>female</td>\n",
       "      <td>male</td>\n",
       "      <td>male</td>\n",
       "      <td>male</td>\n",
       "      <td>female</td>\n",
       "    </tr>\n",
       "    <tr>\n",
       "      <th>seniorcitizen</th>\n",
       "      <td>0</td>\n",
       "      <td>0</td>\n",
       "      <td>0</td>\n",
       "      <td>0</td>\n",
       "      <td>0</td>\n",
       "    </tr>\n",
       "    <tr>\n",
       "      <th>partner</th>\n",
       "      <td>yes</td>\n",
       "      <td>no</td>\n",
       "      <td>no</td>\n",
       "      <td>no</td>\n",
       "      <td>no</td>\n",
       "    </tr>\n",
       "    <tr>\n",
       "      <th>dependents</th>\n",
       "      <td>no</td>\n",
       "      <td>no</td>\n",
       "      <td>no</td>\n",
       "      <td>no</td>\n",
       "      <td>no</td>\n",
       "    </tr>\n",
       "    <tr>\n",
       "      <th>tenure</th>\n",
       "      <td>1</td>\n",
       "      <td>34</td>\n",
       "      <td>2</td>\n",
       "      <td>45</td>\n",
       "      <td>2</td>\n",
       "    </tr>\n",
       "    <tr>\n",
       "      <th>phoneservice</th>\n",
       "      <td>no</td>\n",
       "      <td>yes</td>\n",
       "      <td>yes</td>\n",
       "      <td>no</td>\n",
       "      <td>yes</td>\n",
       "    </tr>\n",
       "    <tr>\n",
       "      <th>multiplelines</th>\n",
       "      <td>no_phone_service</td>\n",
       "      <td>no</td>\n",
       "      <td>no</td>\n",
       "      <td>no_phone_service</td>\n",
       "      <td>no</td>\n",
       "    </tr>\n",
       "    <tr>\n",
       "      <th>internetservice</th>\n",
       "      <td>dsl</td>\n",
       "      <td>dsl</td>\n",
       "      <td>dsl</td>\n",
       "      <td>dsl</td>\n",
       "      <td>fiber_optic</td>\n",
       "    </tr>\n",
       "    <tr>\n",
       "      <th>onlinesecurity</th>\n",
       "      <td>no</td>\n",
       "      <td>yes</td>\n",
       "      <td>yes</td>\n",
       "      <td>yes</td>\n",
       "      <td>no</td>\n",
       "    </tr>\n",
       "    <tr>\n",
       "      <th>onlinebackup</th>\n",
       "      <td>yes</td>\n",
       "      <td>no</td>\n",
       "      <td>yes</td>\n",
       "      <td>no</td>\n",
       "      <td>no</td>\n",
       "    </tr>\n",
       "    <tr>\n",
       "      <th>deviceprotection</th>\n",
       "      <td>no</td>\n",
       "      <td>yes</td>\n",
       "      <td>no</td>\n",
       "      <td>yes</td>\n",
       "      <td>no</td>\n",
       "    </tr>\n",
       "    <tr>\n",
       "      <th>techsupport</th>\n",
       "      <td>no</td>\n",
       "      <td>no</td>\n",
       "      <td>no</td>\n",
       "      <td>yes</td>\n",
       "      <td>no</td>\n",
       "    </tr>\n",
       "    <tr>\n",
       "      <th>streamingtv</th>\n",
       "      <td>no</td>\n",
       "      <td>no</td>\n",
       "      <td>no</td>\n",
       "      <td>no</td>\n",
       "      <td>no</td>\n",
       "    </tr>\n",
       "    <tr>\n",
       "      <th>streamingmovies</th>\n",
       "      <td>no</td>\n",
       "      <td>no</td>\n",
       "      <td>no</td>\n",
       "      <td>no</td>\n",
       "      <td>no</td>\n",
       "    </tr>\n",
       "    <tr>\n",
       "      <th>contract</th>\n",
       "      <td>month-to-month</td>\n",
       "      <td>one_year</td>\n",
       "      <td>month-to-month</td>\n",
       "      <td>one_year</td>\n",
       "      <td>month-to-month</td>\n",
       "    </tr>\n",
       "    <tr>\n",
       "      <th>paperlessbilling</th>\n",
       "      <td>yes</td>\n",
       "      <td>no</td>\n",
       "      <td>yes</td>\n",
       "      <td>no</td>\n",
       "      <td>yes</td>\n",
       "    </tr>\n",
       "    <tr>\n",
       "      <th>paymentmethod</th>\n",
       "      <td>electronic_check</td>\n",
       "      <td>mailed_check</td>\n",
       "      <td>mailed_check</td>\n",
       "      <td>bank_transfer_(automatic)</td>\n",
       "      <td>electronic_check</td>\n",
       "    </tr>\n",
       "    <tr>\n",
       "      <th>monthlycharges</th>\n",
       "      <td>29.85</td>\n",
       "      <td>56.95</td>\n",
       "      <td>53.85</td>\n",
       "      <td>42.3</td>\n",
       "      <td>70.7</td>\n",
       "    </tr>\n",
       "    <tr>\n",
       "      <th>totalcharges</th>\n",
       "      <td>29.85</td>\n",
       "      <td>1889.5</td>\n",
       "      <td>108.15</td>\n",
       "      <td>1840.75</td>\n",
       "      <td>151.65</td>\n",
       "    </tr>\n",
       "    <tr>\n",
       "      <th>churn</th>\n",
       "      <td>no</td>\n",
       "      <td>no</td>\n",
       "      <td>yes</td>\n",
       "      <td>no</td>\n",
       "      <td>yes</td>\n",
       "    </tr>\n",
       "  </tbody>\n",
       "</table>\n",
       "</div>"
      ],
      "text/plain": [
       "                                 0             1               2  \\\n",
       "customerid              7590-vhveg    5575-gnvde      3668-qpybk   \n",
       "gender                      female          male            male   \n",
       "seniorcitizen                    0             0               0   \n",
       "partner                        yes            no              no   \n",
       "dependents                      no            no              no   \n",
       "tenure                           1            34               2   \n",
       "phoneservice                    no           yes             yes   \n",
       "multiplelines     no_phone_service            no              no   \n",
       "internetservice                dsl           dsl             dsl   \n",
       "onlinesecurity                  no           yes             yes   \n",
       "onlinebackup                   yes            no             yes   \n",
       "deviceprotection                no           yes              no   \n",
       "techsupport                     no            no              no   \n",
       "streamingtv                     no            no              no   \n",
       "streamingmovies                 no            no              no   \n",
       "contract            month-to-month      one_year  month-to-month   \n",
       "paperlessbilling               yes            no             yes   \n",
       "paymentmethod     electronic_check  mailed_check    mailed_check   \n",
       "monthlycharges               29.85         56.95           53.85   \n",
       "totalcharges                 29.85        1889.5          108.15   \n",
       "churn                           no            no             yes   \n",
       "\n",
       "                                          3                 4  \n",
       "customerid                       7795-cfocw        9237-hqitu  \n",
       "gender                                 male            female  \n",
       "seniorcitizen                             0                 0  \n",
       "partner                                  no                no  \n",
       "dependents                               no                no  \n",
       "tenure                                   45                 2  \n",
       "phoneservice                             no               yes  \n",
       "multiplelines              no_phone_service                no  \n",
       "internetservice                         dsl       fiber_optic  \n",
       "onlinesecurity                          yes                no  \n",
       "onlinebackup                             no                no  \n",
       "deviceprotection                        yes                no  \n",
       "techsupport                             yes                no  \n",
       "streamingtv                              no                no  \n",
       "streamingmovies                          no                no  \n",
       "contract                           one_year    month-to-month  \n",
       "paperlessbilling                         no               yes  \n",
       "paymentmethod     bank_transfer_(automatic)  electronic_check  \n",
       "monthlycharges                         42.3              70.7  \n",
       "totalcharges                        1840.75            151.65  \n",
       "churn                                    no               yes  "
      ]
     },
     "execution_count": 6,
     "metadata": {},
     "output_type": "execute_result"
    }
   ],
   "source": [
    "df.head().T"
   ]
  },
  {
   "cell_type": "code",
   "execution_count": 7,
   "id": "50da2c8e",
   "metadata": {
    "execution": {
     "iopub.execute_input": "2024-04-19T21:09:35.100668Z",
     "iopub.status.busy": "2024-04-19T21:09:35.100219Z",
     "iopub.status.idle": "2024-04-19T21:09:35.117258Z",
     "shell.execute_reply": "2024-04-19T21:09:35.116130Z"
    },
    "papermill": {
     "duration": 0.039666,
     "end_time": "2024-04-19T21:09:35.119783",
     "exception": false,
     "start_time": "2024-04-19T21:09:35.080117",
     "status": "completed"
    },
    "tags": []
   },
   "outputs": [
    {
     "data": {
      "text/plain": [
       "0"
      ]
     },
     "execution_count": 7,
     "metadata": {},
     "output_type": "execute_result"
    }
   ],
   "source": [
    "df.dtypes\n",
    "df.totalcharges=pd.to_numeric(df.totalcharges,errors='coerce')\n",
    "df.totalcharges=df.totalcharges.fillna(0)\n",
    "df.totalcharges.isnull().sum()"
   ]
  },
  {
   "cell_type": "code",
   "execution_count": 8,
   "id": "f025ccb2",
   "metadata": {
    "execution": {
     "iopub.execute_input": "2024-04-19T21:09:35.161142Z",
     "iopub.status.busy": "2024-04-19T21:09:35.160077Z",
     "iopub.status.idle": "2024-04-19T21:09:35.172698Z",
     "shell.execute_reply": "2024-04-19T21:09:35.171529Z"
    },
    "papermill": {
     "duration": 0.035754,
     "end_time": "2024-04-19T21:09:35.175397",
     "exception": false,
     "start_time": "2024-04-19T21:09:35.139643",
     "status": "completed"
    },
    "tags": []
   },
   "outputs": [
    {
     "data": {
      "text/plain": [
       "0       0\n",
       "1       0\n",
       "2       1\n",
       "3       0\n",
       "4       1\n",
       "       ..\n",
       "7038    0\n",
       "7039    0\n",
       "7040    0\n",
       "7041    1\n",
       "7042    0\n",
       "Name: churn, Length: 7043, dtype: int64"
      ]
     },
     "execution_count": 8,
     "metadata": {},
     "output_type": "execute_result"
    }
   ],
   "source": [
    "df.churn=(df.churn == 'yes').astype(int)\n",
    "df.churn\n"
   ]
  },
  {
   "cell_type": "code",
   "execution_count": 9,
   "id": "bb509a7d",
   "metadata": {
    "execution": {
     "iopub.execute_input": "2024-04-19T21:09:35.216581Z",
     "iopub.status.busy": "2024-04-19T21:09:35.215637Z",
     "iopub.status.idle": "2024-04-19T21:09:36.798914Z",
     "shell.execute_reply": "2024-04-19T21:09:36.797739Z"
    },
    "papermill": {
     "duration": 1.607243,
     "end_time": "2024-04-19T21:09:36.802115",
     "exception": false,
     "start_time": "2024-04-19T21:09:35.194872",
     "status": "completed"
    },
    "tags": []
   },
   "outputs": [],
   "source": [
    "from sklearn.model_selection import train_test_split\n"
   ]
  },
  {
   "cell_type": "code",
   "execution_count": 10,
   "id": "926cf56a",
   "metadata": {
    "execution": {
     "iopub.execute_input": "2024-04-19T21:09:36.843797Z",
     "iopub.status.busy": "2024-04-19T21:09:36.843307Z",
     "iopub.status.idle": "2024-04-19T21:09:36.871807Z",
     "shell.execute_reply": "2024-04-19T21:09:36.870420Z"
    },
    "papermill": {
     "duration": 0.053917,
     "end_time": "2024-04-19T21:09:36.875631",
     "exception": false,
     "start_time": "2024-04-19T21:09:36.821714",
     "status": "completed"
    },
    "tags": []
   },
   "outputs": [],
   "source": [
    "df_full_train,df_test=train_test_split(df,test_size=0.2,random_state=1)\n"
   ]
  },
  {
   "cell_type": "code",
   "execution_count": 11,
   "id": "6f333acc",
   "metadata": {
    "execution": {
     "iopub.execute_input": "2024-04-19T21:09:36.918668Z",
     "iopub.status.busy": "2024-04-19T21:09:36.918148Z",
     "iopub.status.idle": "2024-04-19T21:09:36.937506Z",
     "shell.execute_reply": "2024-04-19T21:09:36.936228Z"
    },
    "papermill": {
     "duration": 0.045272,
     "end_time": "2024-04-19T21:09:36.940841",
     "exception": false,
     "start_time": "2024-04-19T21:09:36.895569",
     "status": "completed"
    },
    "tags": []
   },
   "outputs": [],
   "source": [
    "df_train,df_val=train_test_split(df_full_train,test_size=0.25,random_state=1)"
   ]
  },
  {
   "cell_type": "code",
   "execution_count": 12,
   "id": "0fb9b078",
   "metadata": {
    "execution": {
     "iopub.execute_input": "2024-04-19T21:09:36.982571Z",
     "iopub.status.busy": "2024-04-19T21:09:36.982129Z",
     "iopub.status.idle": "2024-04-19T21:09:36.991229Z",
     "shell.execute_reply": "2024-04-19T21:09:36.989756Z"
    },
    "papermill": {
     "duration": 0.03363,
     "end_time": "2024-04-19T21:09:36.994020",
     "exception": false,
     "start_time": "2024-04-19T21:09:36.960390",
     "status": "completed"
    },
    "tags": []
   },
   "outputs": [
    {
     "data": {
      "text/plain": [
       "(4225, 1409, 1409)"
      ]
     },
     "execution_count": 12,
     "metadata": {},
     "output_type": "execute_result"
    }
   ],
   "source": [
    "len(df_train),len(df_test),len(df_val)"
   ]
  },
  {
   "cell_type": "code",
   "execution_count": 13,
   "id": "1af859a5",
   "metadata": {
    "execution": {
     "iopub.execute_input": "2024-04-19T21:09:37.038286Z",
     "iopub.status.busy": "2024-04-19T21:09:37.037829Z",
     "iopub.status.idle": "2024-04-19T21:09:37.053666Z",
     "shell.execute_reply": "2024-04-19T21:09:37.052211Z"
    },
    "papermill": {
     "duration": 0.042891,
     "end_time": "2024-04-19T21:09:37.057319",
     "exception": false,
     "start_time": "2024-04-19T21:09:37.014428",
     "status": "completed"
    },
    "tags": []
   },
   "outputs": [],
   "source": [
    "df_train=df_train.reset_index(drop=True)"
   ]
  },
  {
   "cell_type": "code",
   "execution_count": 14,
   "id": "f8509b1a",
   "metadata": {
    "execution": {
     "iopub.execute_input": "2024-04-19T21:09:37.099344Z",
     "iopub.status.busy": "2024-04-19T21:09:37.097905Z",
     "iopub.status.idle": "2024-04-19T21:09:37.109408Z",
     "shell.execute_reply": "2024-04-19T21:09:37.107919Z"
    },
    "papermill": {
     "duration": 0.035259,
     "end_time": "2024-04-19T21:09:37.112410",
     "exception": false,
     "start_time": "2024-04-19T21:09:37.077151",
     "status": "completed"
    },
    "tags": []
   },
   "outputs": [],
   "source": [
    "df_test=df_test.reset_index(drop=True)\n",
    "df_val=df_val.reset_index(drop=True)"
   ]
  },
  {
   "cell_type": "code",
   "execution_count": 15,
   "id": "374d58e1",
   "metadata": {
    "execution": {
     "iopub.execute_input": "2024-04-19T21:09:37.153708Z",
     "iopub.status.busy": "2024-04-19T21:09:37.153287Z",
     "iopub.status.idle": "2024-04-19T21:09:37.159402Z",
     "shell.execute_reply": "2024-04-19T21:09:37.158144Z"
    },
    "papermill": {
     "duration": 0.030222,
     "end_time": "2024-04-19T21:09:37.161998",
     "exception": false,
     "start_time": "2024-04-19T21:09:37.131776",
     "status": "completed"
    },
    "tags": []
   },
   "outputs": [],
   "source": [
    "y_train=df_train.churn.values\n",
    "y_test=df_test.churn.values\n",
    "y_val=df_val.churn.values"
   ]
  },
  {
   "cell_type": "code",
   "execution_count": 16,
   "id": "62a41e2f",
   "metadata": {
    "execution": {
     "iopub.execute_input": "2024-04-19T21:09:37.209750Z",
     "iopub.status.busy": "2024-04-19T21:09:37.208697Z",
     "iopub.status.idle": "2024-04-19T21:09:37.216745Z",
     "shell.execute_reply": "2024-04-19T21:09:37.214688Z"
    },
    "papermill": {
     "duration": 0.036914,
     "end_time": "2024-04-19T21:09:37.219590",
     "exception": false,
     "start_time": "2024-04-19T21:09:37.182676",
     "status": "completed"
    },
    "tags": []
   },
   "outputs": [],
   "source": [
    "y_TTest=df_test.churn.values"
   ]
  },
  {
   "cell_type": "code",
   "execution_count": 17,
   "id": "1f9c840c",
   "metadata": {
    "execution": {
     "iopub.execute_input": "2024-04-19T21:09:37.268605Z",
     "iopub.status.busy": "2024-04-19T21:09:37.268206Z",
     "iopub.status.idle": "2024-04-19T21:09:37.276129Z",
     "shell.execute_reply": "2024-04-19T21:09:37.274198Z"
    },
    "papermill": {
     "duration": 0.035314,
     "end_time": "2024-04-19T21:09:37.278933",
     "exception": false,
     "start_time": "2024-04-19T21:09:37.243619",
     "status": "completed"
    },
    "tags": []
   },
   "outputs": [],
   "source": [
    "del df_train['churn']\n",
    "del df_test['churn']\n",
    "del df_val['churn']"
   ]
  },
  {
   "cell_type": "code",
   "execution_count": null,
   "id": "ee0f5978",
   "metadata": {
    "papermill": {
     "duration": 0.01981,
     "end_time": "2024-04-19T21:09:37.317885",
     "exception": false,
     "start_time": "2024-04-19T21:09:37.298075",
     "status": "completed"
    },
    "tags": []
   },
   "outputs": [],
   "source": []
  },
  {
   "cell_type": "markdown",
   "id": "53ede52e",
   "metadata": {
    "papermill": {
     "duration": 0.023331,
     "end_time": "2024-04-19T21:09:37.360415",
     "exception": false,
     "start_time": "2024-04-19T21:09:37.337084",
     "status": "completed"
    },
    "tags": []
   },
   "source": [
    "**EDA**"
   ]
  },
  {
   "cell_type": "code",
   "execution_count": 18,
   "id": "863bb7c0",
   "metadata": {
    "execution": {
     "iopub.execute_input": "2024-04-19T21:09:37.415295Z",
     "iopub.status.busy": "2024-04-19T21:09:37.413970Z",
     "iopub.status.idle": "2024-04-19T21:09:37.432228Z",
     "shell.execute_reply": "2024-04-19T21:09:37.431003Z"
    },
    "papermill": {
     "duration": 0.054479,
     "end_time": "2024-04-19T21:09:37.440203",
     "exception": false,
     "start_time": "2024-04-19T21:09:37.385724",
     "status": "completed"
    },
    "tags": []
   },
   "outputs": [],
   "source": [
    "df_full_train=df_full_train.reset_index(drop=True)"
   ]
  },
  {
   "cell_type": "code",
   "execution_count": 19,
   "id": "b4fd07cb",
   "metadata": {
    "execution": {
     "iopub.execute_input": "2024-04-19T21:09:37.488762Z",
     "iopub.status.busy": "2024-04-19T21:09:37.488350Z",
     "iopub.status.idle": "2024-04-19T21:09:37.503838Z",
     "shell.execute_reply": "2024-04-19T21:09:37.502044Z"
    },
    "papermill": {
     "duration": 0.042827,
     "end_time": "2024-04-19T21:09:37.507190",
     "exception": false,
     "start_time": "2024-04-19T21:09:37.464363",
     "status": "completed"
    },
    "tags": []
   },
   "outputs": [
    {
     "data": {
      "text/plain": [
       "churn\n",
       "0    0.730032\n",
       "1    0.269968\n",
       "Name: proportion, dtype: float64"
      ]
     },
     "execution_count": 19,
     "metadata": {},
     "output_type": "execute_result"
    }
   ],
   "source": [
    "df_full_train.churn.value_counts(normalize=True)"
   ]
  },
  {
   "cell_type": "code",
   "execution_count": 20,
   "id": "5afa7d5b",
   "metadata": {
    "execution": {
     "iopub.execute_input": "2024-04-19T21:09:37.617962Z",
     "iopub.status.busy": "2024-04-19T21:09:37.617421Z",
     "iopub.status.idle": "2024-04-19T21:09:37.626279Z",
     "shell.execute_reply": "2024-04-19T21:09:37.624962Z"
    },
    "papermill": {
     "duration": 0.100925,
     "end_time": "2024-04-19T21:09:37.629549",
     "exception": false,
     "start_time": "2024-04-19T21:09:37.528624",
     "status": "completed"
    },
    "tags": []
   },
   "outputs": [
    {
     "data": {
      "text/plain": [
       "0.26996805111821087"
      ]
     },
     "execution_count": 20,
     "metadata": {},
     "output_type": "execute_result"
    }
   ],
   "source": [
    "global_churn=df_full_train.churn.mean()\n",
    "global_churn\n"
   ]
  },
  {
   "cell_type": "code",
   "execution_count": 21,
   "id": "fa98d9b7",
   "metadata": {
    "execution": {
     "iopub.execute_input": "2024-04-19T21:09:37.680200Z",
     "iopub.status.busy": "2024-04-19T21:09:37.679635Z",
     "iopub.status.idle": "2024-04-19T21:09:37.691593Z",
     "shell.execute_reply": "2024-04-19T21:09:37.690286Z"
    },
    "papermill": {
     "duration": 0.044706,
     "end_time": "2024-04-19T21:09:37.694848",
     "exception": false,
     "start_time": "2024-04-19T21:09:37.650142",
     "status": "completed"
    },
    "tags": []
   },
   "outputs": [
    {
     "data": {
      "text/plain": [
       "Index(['customerid', 'gender', 'seniorcitizen', 'partner', 'dependents',\n",
       "       'tenure', 'phoneservice', 'multiplelines', 'internetservice',\n",
       "       'onlinesecurity', 'onlinebackup', 'deviceprotection', 'techsupport',\n",
       "       'streamingtv', 'streamingmovies', 'contract', 'paperlessbilling',\n",
       "       'paymentmethod', 'monthlycharges', 'totalcharges', 'churn'],\n",
       "      dtype='object')"
      ]
     },
     "execution_count": 21,
     "metadata": {},
     "output_type": "execute_result"
    }
   ],
   "source": [
    "df_full_train.columns"
   ]
  },
  {
   "cell_type": "code",
   "execution_count": 22,
   "id": "91118198",
   "metadata": {
    "execution": {
     "iopub.execute_input": "2024-04-19T21:09:37.747714Z",
     "iopub.status.busy": "2024-04-19T21:09:37.745880Z",
     "iopub.status.idle": "2024-04-19T21:09:37.753756Z",
     "shell.execute_reply": "2024-04-19T21:09:37.752564Z"
    },
    "papermill": {
     "duration": 0.037544,
     "end_time": "2024-04-19T21:09:37.756460",
     "exception": false,
     "start_time": "2024-04-19T21:09:37.718916",
     "status": "completed"
    },
    "tags": []
   },
   "outputs": [],
   "source": [
    "numeric=['tenure','monthlycharges', 'totalcharges']\n",
    "categorical =['gender', 'seniorcitizen', 'partner', 'dependents'\n",
    "              , 'phoneservice', 'multiplelines', 'internetservice',\n",
    "       'onlinesecurity', 'onlinebackup', 'deviceprotection', 'techsupport',\n",
    "       'streamingtv', 'streamingmovies', 'contract', 'paperlessbilling',\n",
    "       'paymentmethod']"
   ]
  },
  {
   "cell_type": "code",
   "execution_count": 23,
   "id": "8f4235b2",
   "metadata": {
    "execution": {
     "iopub.execute_input": "2024-04-19T21:09:37.799168Z",
     "iopub.status.busy": "2024-04-19T21:09:37.798699Z",
     "iopub.status.idle": "2024-04-19T21:09:37.829856Z",
     "shell.execute_reply": "2024-04-19T21:09:37.828676Z"
    },
    "papermill": {
     "duration": 0.05513,
     "end_time": "2024-04-19T21:09:37.832337",
     "exception": false,
     "start_time": "2024-04-19T21:09:37.777207",
     "status": "completed"
    },
    "tags": []
   },
   "outputs": [
    {
     "data": {
      "text/plain": [
       "gender              2\n",
       "seniorcitizen       2\n",
       "partner             2\n",
       "dependents          2\n",
       "phoneservice        2\n",
       "multiplelines       3\n",
       "internetservice     3\n",
       "onlinesecurity      3\n",
       "onlinebackup        3\n",
       "deviceprotection    3\n",
       "techsupport         3\n",
       "streamingtv         3\n",
       "streamingmovies     3\n",
       "contract            3\n",
       "paperlessbilling    2\n",
       "paymentmethod       4\n",
       "dtype: int64"
      ]
     },
     "execution_count": 23,
     "metadata": {},
     "output_type": "execute_result"
    }
   ],
   "source": [
    "df_full_train[categorical].nunique()"
   ]
  },
  {
   "cell_type": "code",
   "execution_count": 24,
   "id": "377c64d8",
   "metadata": {
    "execution": {
     "iopub.execute_input": "2024-04-19T21:09:37.873949Z",
     "iopub.status.busy": "2024-04-19T21:09:37.873569Z",
     "iopub.status.idle": "2024-04-19T21:09:37.878868Z",
     "shell.execute_reply": "2024-04-19T21:09:37.877398Z"
    },
    "papermill": {
     "duration": 0.029159,
     "end_time": "2024-04-19T21:09:37.881485",
     "exception": false,
     "start_time": "2024-04-19T21:09:37.852326",
     "status": "completed"
    },
    "tags": []
   },
   "outputs": [],
   "source": [
    "from IPython.display import display"
   ]
  },
  {
   "cell_type": "code",
   "execution_count": 25,
   "id": "84701f01",
   "metadata": {
    "execution": {
     "iopub.execute_input": "2024-04-19T21:09:37.923442Z",
     "iopub.status.busy": "2024-04-19T21:09:37.922999Z",
     "iopub.status.idle": "2024-04-19T21:09:38.123636Z",
     "shell.execute_reply": "2024-04-19T21:09:38.122397Z"
    },
    "papermill": {
     "duration": 0.225662,
     "end_time": "2024-04-19T21:09:38.127264",
     "exception": false,
     "start_time": "2024-04-19T21:09:37.901602",
     "status": "completed"
    },
    "tags": []
   },
   "outputs": [
    {
     "name": "stdout",
     "output_type": "stream",
     "text": [
      "gender\n"
     ]
    },
    {
     "data": {
      "text/html": [
       "<div>\n",
       "<style scoped>\n",
       "    .dataframe tbody tr th:only-of-type {\n",
       "        vertical-align: middle;\n",
       "    }\n",
       "\n",
       "    .dataframe tbody tr th {\n",
       "        vertical-align: top;\n",
       "    }\n",
       "\n",
       "    .dataframe thead th {\n",
       "        text-align: right;\n",
       "    }\n",
       "</style>\n",
       "<table border=\"1\" class=\"dataframe\">\n",
       "  <thead>\n",
       "    <tr style=\"text-align: right;\">\n",
       "      <th></th>\n",
       "      <th>mean</th>\n",
       "      <th>count</th>\n",
       "      <th>diff</th>\n",
       "      <th>risk</th>\n",
       "    </tr>\n",
       "    <tr>\n",
       "      <th>gender</th>\n",
       "      <th></th>\n",
       "      <th></th>\n",
       "      <th></th>\n",
       "      <th></th>\n",
       "    </tr>\n",
       "  </thead>\n",
       "  <tbody>\n",
       "    <tr>\n",
       "      <th>female</th>\n",
       "      <td>0.276824</td>\n",
       "      <td>2796</td>\n",
       "      <td>0.006856</td>\n",
       "      <td>1.025396</td>\n",
       "    </tr>\n",
       "    <tr>\n",
       "      <th>male</th>\n",
       "      <td>0.263214</td>\n",
       "      <td>2838</td>\n",
       "      <td>-0.006755</td>\n",
       "      <td>0.974980</td>\n",
       "    </tr>\n",
       "  </tbody>\n",
       "</table>\n",
       "</div>"
      ],
      "text/plain": [
       "            mean  count      diff      risk\n",
       "gender                                     \n",
       "female  0.276824   2796  0.006856  1.025396\n",
       "male    0.263214   2838 -0.006755  0.974980"
      ]
     },
     "metadata": {},
     "output_type": "display_data"
    },
    {
     "name": "stdout",
     "output_type": "stream",
     "text": [
      "\n",
      "\n",
      "seniorcitizen\n"
     ]
    },
    {
     "data": {
      "text/html": [
       "<div>\n",
       "<style scoped>\n",
       "    .dataframe tbody tr th:only-of-type {\n",
       "        vertical-align: middle;\n",
       "    }\n",
       "\n",
       "    .dataframe tbody tr th {\n",
       "        vertical-align: top;\n",
       "    }\n",
       "\n",
       "    .dataframe thead th {\n",
       "        text-align: right;\n",
       "    }\n",
       "</style>\n",
       "<table border=\"1\" class=\"dataframe\">\n",
       "  <thead>\n",
       "    <tr style=\"text-align: right;\">\n",
       "      <th></th>\n",
       "      <th>mean</th>\n",
       "      <th>count</th>\n",
       "      <th>diff</th>\n",
       "      <th>risk</th>\n",
       "    </tr>\n",
       "    <tr>\n",
       "      <th>seniorcitizen</th>\n",
       "      <th></th>\n",
       "      <th></th>\n",
       "      <th></th>\n",
       "      <th></th>\n",
       "    </tr>\n",
       "  </thead>\n",
       "  <tbody>\n",
       "    <tr>\n",
       "      <th>0</th>\n",
       "      <td>0.242270</td>\n",
       "      <td>4722</td>\n",
       "      <td>-0.027698</td>\n",
       "      <td>0.897403</td>\n",
       "    </tr>\n",
       "    <tr>\n",
       "      <th>1</th>\n",
       "      <td>0.413377</td>\n",
       "      <td>912</td>\n",
       "      <td>0.143409</td>\n",
       "      <td>1.531208</td>\n",
       "    </tr>\n",
       "  </tbody>\n",
       "</table>\n",
       "</div>"
      ],
      "text/plain": [
       "                   mean  count      diff      risk\n",
       "seniorcitizen                                     \n",
       "0              0.242270   4722 -0.027698  0.897403\n",
       "1              0.413377    912  0.143409  1.531208"
      ]
     },
     "metadata": {},
     "output_type": "display_data"
    },
    {
     "name": "stdout",
     "output_type": "stream",
     "text": [
      "\n",
      "\n",
      "partner\n"
     ]
    },
    {
     "data": {
      "text/html": [
       "<div>\n",
       "<style scoped>\n",
       "    .dataframe tbody tr th:only-of-type {\n",
       "        vertical-align: middle;\n",
       "    }\n",
       "\n",
       "    .dataframe tbody tr th {\n",
       "        vertical-align: top;\n",
       "    }\n",
       "\n",
       "    .dataframe thead th {\n",
       "        text-align: right;\n",
       "    }\n",
       "</style>\n",
       "<table border=\"1\" class=\"dataframe\">\n",
       "  <thead>\n",
       "    <tr style=\"text-align: right;\">\n",
       "      <th></th>\n",
       "      <th>mean</th>\n",
       "      <th>count</th>\n",
       "      <th>diff</th>\n",
       "      <th>risk</th>\n",
       "    </tr>\n",
       "    <tr>\n",
       "      <th>partner</th>\n",
       "      <th></th>\n",
       "      <th></th>\n",
       "      <th></th>\n",
       "      <th></th>\n",
       "    </tr>\n",
       "  </thead>\n",
       "  <tbody>\n",
       "    <tr>\n",
       "      <th>no</th>\n",
       "      <td>0.329809</td>\n",
       "      <td>2932</td>\n",
       "      <td>0.059841</td>\n",
       "      <td>1.221659</td>\n",
       "    </tr>\n",
       "    <tr>\n",
       "      <th>yes</th>\n",
       "      <td>0.205033</td>\n",
       "      <td>2702</td>\n",
       "      <td>-0.064935</td>\n",
       "      <td>0.759472</td>\n",
       "    </tr>\n",
       "  </tbody>\n",
       "</table>\n",
       "</div>"
      ],
      "text/plain": [
       "             mean  count      diff      risk\n",
       "partner                                     \n",
       "no       0.329809   2932  0.059841  1.221659\n",
       "yes      0.205033   2702 -0.064935  0.759472"
      ]
     },
     "metadata": {},
     "output_type": "display_data"
    },
    {
     "name": "stdout",
     "output_type": "stream",
     "text": [
      "\n",
      "\n",
      "dependents\n"
     ]
    },
    {
     "data": {
      "text/html": [
       "<div>\n",
       "<style scoped>\n",
       "    .dataframe tbody tr th:only-of-type {\n",
       "        vertical-align: middle;\n",
       "    }\n",
       "\n",
       "    .dataframe tbody tr th {\n",
       "        vertical-align: top;\n",
       "    }\n",
       "\n",
       "    .dataframe thead th {\n",
       "        text-align: right;\n",
       "    }\n",
       "</style>\n",
       "<table border=\"1\" class=\"dataframe\">\n",
       "  <thead>\n",
       "    <tr style=\"text-align: right;\">\n",
       "      <th></th>\n",
       "      <th>mean</th>\n",
       "      <th>count</th>\n",
       "      <th>diff</th>\n",
       "      <th>risk</th>\n",
       "    </tr>\n",
       "    <tr>\n",
       "      <th>dependents</th>\n",
       "      <th></th>\n",
       "      <th></th>\n",
       "      <th></th>\n",
       "      <th></th>\n",
       "    </tr>\n",
       "  </thead>\n",
       "  <tbody>\n",
       "    <tr>\n",
       "      <th>no</th>\n",
       "      <td>0.313760</td>\n",
       "      <td>3968</td>\n",
       "      <td>0.043792</td>\n",
       "      <td>1.162212</td>\n",
       "    </tr>\n",
       "    <tr>\n",
       "      <th>yes</th>\n",
       "      <td>0.165666</td>\n",
       "      <td>1666</td>\n",
       "      <td>-0.104302</td>\n",
       "      <td>0.613651</td>\n",
       "    </tr>\n",
       "  </tbody>\n",
       "</table>\n",
       "</div>"
      ],
      "text/plain": [
       "                mean  count      diff      risk\n",
       "dependents                                     \n",
       "no          0.313760   3968  0.043792  1.162212\n",
       "yes         0.165666   1666 -0.104302  0.613651"
      ]
     },
     "metadata": {},
     "output_type": "display_data"
    },
    {
     "name": "stdout",
     "output_type": "stream",
     "text": [
      "\n",
      "\n",
      "phoneservice\n"
     ]
    },
    {
     "data": {
      "text/html": [
       "<div>\n",
       "<style scoped>\n",
       "    .dataframe tbody tr th:only-of-type {\n",
       "        vertical-align: middle;\n",
       "    }\n",
       "\n",
       "    .dataframe tbody tr th {\n",
       "        vertical-align: top;\n",
       "    }\n",
       "\n",
       "    .dataframe thead th {\n",
       "        text-align: right;\n",
       "    }\n",
       "</style>\n",
       "<table border=\"1\" class=\"dataframe\">\n",
       "  <thead>\n",
       "    <tr style=\"text-align: right;\">\n",
       "      <th></th>\n",
       "      <th>mean</th>\n",
       "      <th>count</th>\n",
       "      <th>diff</th>\n",
       "      <th>risk</th>\n",
       "    </tr>\n",
       "    <tr>\n",
       "      <th>phoneservice</th>\n",
       "      <th></th>\n",
       "      <th></th>\n",
       "      <th></th>\n",
       "      <th></th>\n",
       "    </tr>\n",
       "  </thead>\n",
       "  <tbody>\n",
       "    <tr>\n",
       "      <th>no</th>\n",
       "      <td>0.241316</td>\n",
       "      <td>547</td>\n",
       "      <td>-0.028652</td>\n",
       "      <td>0.893870</td>\n",
       "    </tr>\n",
       "    <tr>\n",
       "      <th>yes</th>\n",
       "      <td>0.273049</td>\n",
       "      <td>5087</td>\n",
       "      <td>0.003081</td>\n",
       "      <td>1.011412</td>\n",
       "    </tr>\n",
       "  </tbody>\n",
       "</table>\n",
       "</div>"
      ],
      "text/plain": [
       "                  mean  count      diff      risk\n",
       "phoneservice                                     \n",
       "no            0.241316    547 -0.028652  0.893870\n",
       "yes           0.273049   5087  0.003081  1.011412"
      ]
     },
     "metadata": {},
     "output_type": "display_data"
    },
    {
     "name": "stdout",
     "output_type": "stream",
     "text": [
      "\n",
      "\n",
      "multiplelines\n"
     ]
    },
    {
     "data": {
      "text/html": [
       "<div>\n",
       "<style scoped>\n",
       "    .dataframe tbody tr th:only-of-type {\n",
       "        vertical-align: middle;\n",
       "    }\n",
       "\n",
       "    .dataframe tbody tr th {\n",
       "        vertical-align: top;\n",
       "    }\n",
       "\n",
       "    .dataframe thead th {\n",
       "        text-align: right;\n",
       "    }\n",
       "</style>\n",
       "<table border=\"1\" class=\"dataframe\">\n",
       "  <thead>\n",
       "    <tr style=\"text-align: right;\">\n",
       "      <th></th>\n",
       "      <th>mean</th>\n",
       "      <th>count</th>\n",
       "      <th>diff</th>\n",
       "      <th>risk</th>\n",
       "    </tr>\n",
       "    <tr>\n",
       "      <th>multiplelines</th>\n",
       "      <th></th>\n",
       "      <th></th>\n",
       "      <th></th>\n",
       "      <th></th>\n",
       "    </tr>\n",
       "  </thead>\n",
       "  <tbody>\n",
       "    <tr>\n",
       "      <th>no</th>\n",
       "      <td>0.257407</td>\n",
       "      <td>2700</td>\n",
       "      <td>-0.012561</td>\n",
       "      <td>0.953474</td>\n",
       "    </tr>\n",
       "    <tr>\n",
       "      <th>no_phone_service</th>\n",
       "      <td>0.241316</td>\n",
       "      <td>547</td>\n",
       "      <td>-0.028652</td>\n",
       "      <td>0.893870</td>\n",
       "    </tr>\n",
       "    <tr>\n",
       "      <th>yes</th>\n",
       "      <td>0.290742</td>\n",
       "      <td>2387</td>\n",
       "      <td>0.020773</td>\n",
       "      <td>1.076948</td>\n",
       "    </tr>\n",
       "  </tbody>\n",
       "</table>\n",
       "</div>"
      ],
      "text/plain": [
       "                      mean  count      diff      risk\n",
       "multiplelines                                        \n",
       "no                0.257407   2700 -0.012561  0.953474\n",
       "no_phone_service  0.241316    547 -0.028652  0.893870\n",
       "yes               0.290742   2387  0.020773  1.076948"
      ]
     },
     "metadata": {},
     "output_type": "display_data"
    },
    {
     "name": "stdout",
     "output_type": "stream",
     "text": [
      "\n",
      "\n",
      "internetservice\n"
     ]
    },
    {
     "data": {
      "text/html": [
       "<div>\n",
       "<style scoped>\n",
       "    .dataframe tbody tr th:only-of-type {\n",
       "        vertical-align: middle;\n",
       "    }\n",
       "\n",
       "    .dataframe tbody tr th {\n",
       "        vertical-align: top;\n",
       "    }\n",
       "\n",
       "    .dataframe thead th {\n",
       "        text-align: right;\n",
       "    }\n",
       "</style>\n",
       "<table border=\"1\" class=\"dataframe\">\n",
       "  <thead>\n",
       "    <tr style=\"text-align: right;\">\n",
       "      <th></th>\n",
       "      <th>mean</th>\n",
       "      <th>count</th>\n",
       "      <th>diff</th>\n",
       "      <th>risk</th>\n",
       "    </tr>\n",
       "    <tr>\n",
       "      <th>internetservice</th>\n",
       "      <th></th>\n",
       "      <th></th>\n",
       "      <th></th>\n",
       "      <th></th>\n",
       "    </tr>\n",
       "  </thead>\n",
       "  <tbody>\n",
       "    <tr>\n",
       "      <th>dsl</th>\n",
       "      <td>0.192347</td>\n",
       "      <td>1934</td>\n",
       "      <td>-0.077621</td>\n",
       "      <td>0.712482</td>\n",
       "    </tr>\n",
       "    <tr>\n",
       "      <th>fiber_optic</th>\n",
       "      <td>0.425171</td>\n",
       "      <td>2479</td>\n",
       "      <td>0.155203</td>\n",
       "      <td>1.574895</td>\n",
       "    </tr>\n",
       "    <tr>\n",
       "      <th>no</th>\n",
       "      <td>0.077805</td>\n",
       "      <td>1221</td>\n",
       "      <td>-0.192163</td>\n",
       "      <td>0.288201</td>\n",
       "    </tr>\n",
       "  </tbody>\n",
       "</table>\n",
       "</div>"
      ],
      "text/plain": [
       "                     mean  count      diff      risk\n",
       "internetservice                                     \n",
       "dsl              0.192347   1934 -0.077621  0.712482\n",
       "fiber_optic      0.425171   2479  0.155203  1.574895\n",
       "no               0.077805   1221 -0.192163  0.288201"
      ]
     },
     "metadata": {},
     "output_type": "display_data"
    },
    {
     "name": "stdout",
     "output_type": "stream",
     "text": [
      "\n",
      "\n",
      "onlinesecurity\n"
     ]
    },
    {
     "data": {
      "text/html": [
       "<div>\n",
       "<style scoped>\n",
       "    .dataframe tbody tr th:only-of-type {\n",
       "        vertical-align: middle;\n",
       "    }\n",
       "\n",
       "    .dataframe tbody tr th {\n",
       "        vertical-align: top;\n",
       "    }\n",
       "\n",
       "    .dataframe thead th {\n",
       "        text-align: right;\n",
       "    }\n",
       "</style>\n",
       "<table border=\"1\" class=\"dataframe\">\n",
       "  <thead>\n",
       "    <tr style=\"text-align: right;\">\n",
       "      <th></th>\n",
       "      <th>mean</th>\n",
       "      <th>count</th>\n",
       "      <th>diff</th>\n",
       "      <th>risk</th>\n",
       "    </tr>\n",
       "    <tr>\n",
       "      <th>onlinesecurity</th>\n",
       "      <th></th>\n",
       "      <th></th>\n",
       "      <th></th>\n",
       "      <th></th>\n",
       "    </tr>\n",
       "  </thead>\n",
       "  <tbody>\n",
       "    <tr>\n",
       "      <th>no</th>\n",
       "      <td>0.420921</td>\n",
       "      <td>2801</td>\n",
       "      <td>0.150953</td>\n",
       "      <td>1.559152</td>\n",
       "    </tr>\n",
       "    <tr>\n",
       "      <th>no_internet_service</th>\n",
       "      <td>0.077805</td>\n",
       "      <td>1221</td>\n",
       "      <td>-0.192163</td>\n",
       "      <td>0.288201</td>\n",
       "    </tr>\n",
       "    <tr>\n",
       "      <th>yes</th>\n",
       "      <td>0.153226</td>\n",
       "      <td>1612</td>\n",
       "      <td>-0.116742</td>\n",
       "      <td>0.567570</td>\n",
       "    </tr>\n",
       "  </tbody>\n",
       "</table>\n",
       "</div>"
      ],
      "text/plain": [
       "                         mean  count      diff      risk\n",
       "onlinesecurity                                          \n",
       "no                   0.420921   2801  0.150953  1.559152\n",
       "no_internet_service  0.077805   1221 -0.192163  0.288201\n",
       "yes                  0.153226   1612 -0.116742  0.567570"
      ]
     },
     "metadata": {},
     "output_type": "display_data"
    },
    {
     "name": "stdout",
     "output_type": "stream",
     "text": [
      "\n",
      "\n",
      "onlinebackup\n"
     ]
    },
    {
     "data": {
      "text/html": [
       "<div>\n",
       "<style scoped>\n",
       "    .dataframe tbody tr th:only-of-type {\n",
       "        vertical-align: middle;\n",
       "    }\n",
       "\n",
       "    .dataframe tbody tr th {\n",
       "        vertical-align: top;\n",
       "    }\n",
       "\n",
       "    .dataframe thead th {\n",
       "        text-align: right;\n",
       "    }\n",
       "</style>\n",
       "<table border=\"1\" class=\"dataframe\">\n",
       "  <thead>\n",
       "    <tr style=\"text-align: right;\">\n",
       "      <th></th>\n",
       "      <th>mean</th>\n",
       "      <th>count</th>\n",
       "      <th>diff</th>\n",
       "      <th>risk</th>\n",
       "    </tr>\n",
       "    <tr>\n",
       "      <th>onlinebackup</th>\n",
       "      <th></th>\n",
       "      <th></th>\n",
       "      <th></th>\n",
       "      <th></th>\n",
       "    </tr>\n",
       "  </thead>\n",
       "  <tbody>\n",
       "    <tr>\n",
       "      <th>no</th>\n",
       "      <td>0.404323</td>\n",
       "      <td>2498</td>\n",
       "      <td>0.134355</td>\n",
       "      <td>1.497672</td>\n",
       "    </tr>\n",
       "    <tr>\n",
       "      <th>no_internet_service</th>\n",
       "      <td>0.077805</td>\n",
       "      <td>1221</td>\n",
       "      <td>-0.192163</td>\n",
       "      <td>0.288201</td>\n",
       "    </tr>\n",
       "    <tr>\n",
       "      <th>yes</th>\n",
       "      <td>0.217232</td>\n",
       "      <td>1915</td>\n",
       "      <td>-0.052736</td>\n",
       "      <td>0.804660</td>\n",
       "    </tr>\n",
       "  </tbody>\n",
       "</table>\n",
       "</div>"
      ],
      "text/plain": [
       "                         mean  count      diff      risk\n",
       "onlinebackup                                            \n",
       "no                   0.404323   2498  0.134355  1.497672\n",
       "no_internet_service  0.077805   1221 -0.192163  0.288201\n",
       "yes                  0.217232   1915 -0.052736  0.804660"
      ]
     },
     "metadata": {},
     "output_type": "display_data"
    },
    {
     "name": "stdout",
     "output_type": "stream",
     "text": [
      "\n",
      "\n",
      "deviceprotection\n"
     ]
    },
    {
     "data": {
      "text/html": [
       "<div>\n",
       "<style scoped>\n",
       "    .dataframe tbody tr th:only-of-type {\n",
       "        vertical-align: middle;\n",
       "    }\n",
       "\n",
       "    .dataframe tbody tr th {\n",
       "        vertical-align: top;\n",
       "    }\n",
       "\n",
       "    .dataframe thead th {\n",
       "        text-align: right;\n",
       "    }\n",
       "</style>\n",
       "<table border=\"1\" class=\"dataframe\">\n",
       "  <thead>\n",
       "    <tr style=\"text-align: right;\">\n",
       "      <th></th>\n",
       "      <th>mean</th>\n",
       "      <th>count</th>\n",
       "      <th>diff</th>\n",
       "      <th>risk</th>\n",
       "    </tr>\n",
       "    <tr>\n",
       "      <th>deviceprotection</th>\n",
       "      <th></th>\n",
       "      <th></th>\n",
       "      <th></th>\n",
       "      <th></th>\n",
       "    </tr>\n",
       "  </thead>\n",
       "  <tbody>\n",
       "    <tr>\n",
       "      <th>no</th>\n",
       "      <td>0.395875</td>\n",
       "      <td>2473</td>\n",
       "      <td>0.125907</td>\n",
       "      <td>1.466379</td>\n",
       "    </tr>\n",
       "    <tr>\n",
       "      <th>no_internet_service</th>\n",
       "      <td>0.077805</td>\n",
       "      <td>1221</td>\n",
       "      <td>-0.192163</td>\n",
       "      <td>0.288201</td>\n",
       "    </tr>\n",
       "    <tr>\n",
       "      <th>yes</th>\n",
       "      <td>0.230412</td>\n",
       "      <td>1940</td>\n",
       "      <td>-0.039556</td>\n",
       "      <td>0.853480</td>\n",
       "    </tr>\n",
       "  </tbody>\n",
       "</table>\n",
       "</div>"
      ],
      "text/plain": [
       "                         mean  count      diff      risk\n",
       "deviceprotection                                        \n",
       "no                   0.395875   2473  0.125907  1.466379\n",
       "no_internet_service  0.077805   1221 -0.192163  0.288201\n",
       "yes                  0.230412   1940 -0.039556  0.853480"
      ]
     },
     "metadata": {},
     "output_type": "display_data"
    },
    {
     "name": "stdout",
     "output_type": "stream",
     "text": [
      "\n",
      "\n",
      "techsupport\n"
     ]
    },
    {
     "data": {
      "text/html": [
       "<div>\n",
       "<style scoped>\n",
       "    .dataframe tbody tr th:only-of-type {\n",
       "        vertical-align: middle;\n",
       "    }\n",
       "\n",
       "    .dataframe tbody tr th {\n",
       "        vertical-align: top;\n",
       "    }\n",
       "\n",
       "    .dataframe thead th {\n",
       "        text-align: right;\n",
       "    }\n",
       "</style>\n",
       "<table border=\"1\" class=\"dataframe\">\n",
       "  <thead>\n",
       "    <tr style=\"text-align: right;\">\n",
       "      <th></th>\n",
       "      <th>mean</th>\n",
       "      <th>count</th>\n",
       "      <th>diff</th>\n",
       "      <th>risk</th>\n",
       "    </tr>\n",
       "    <tr>\n",
       "      <th>techsupport</th>\n",
       "      <th></th>\n",
       "      <th></th>\n",
       "      <th></th>\n",
       "      <th></th>\n",
       "    </tr>\n",
       "  </thead>\n",
       "  <tbody>\n",
       "    <tr>\n",
       "      <th>no</th>\n",
       "      <td>0.418914</td>\n",
       "      <td>2781</td>\n",
       "      <td>0.148946</td>\n",
       "      <td>1.551717</td>\n",
       "    </tr>\n",
       "    <tr>\n",
       "      <th>no_internet_service</th>\n",
       "      <td>0.077805</td>\n",
       "      <td>1221</td>\n",
       "      <td>-0.192163</td>\n",
       "      <td>0.288201</td>\n",
       "    </tr>\n",
       "    <tr>\n",
       "      <th>yes</th>\n",
       "      <td>0.159926</td>\n",
       "      <td>1632</td>\n",
       "      <td>-0.110042</td>\n",
       "      <td>0.592390</td>\n",
       "    </tr>\n",
       "  </tbody>\n",
       "</table>\n",
       "</div>"
      ],
      "text/plain": [
       "                         mean  count      diff      risk\n",
       "techsupport                                             \n",
       "no                   0.418914   2781  0.148946  1.551717\n",
       "no_internet_service  0.077805   1221 -0.192163  0.288201\n",
       "yes                  0.159926   1632 -0.110042  0.592390"
      ]
     },
     "metadata": {},
     "output_type": "display_data"
    },
    {
     "name": "stdout",
     "output_type": "stream",
     "text": [
      "\n",
      "\n",
      "streamingtv\n"
     ]
    },
    {
     "data": {
      "text/html": [
       "<div>\n",
       "<style scoped>\n",
       "    .dataframe tbody tr th:only-of-type {\n",
       "        vertical-align: middle;\n",
       "    }\n",
       "\n",
       "    .dataframe tbody tr th {\n",
       "        vertical-align: top;\n",
       "    }\n",
       "\n",
       "    .dataframe thead th {\n",
       "        text-align: right;\n",
       "    }\n",
       "</style>\n",
       "<table border=\"1\" class=\"dataframe\">\n",
       "  <thead>\n",
       "    <tr style=\"text-align: right;\">\n",
       "      <th></th>\n",
       "      <th>mean</th>\n",
       "      <th>count</th>\n",
       "      <th>diff</th>\n",
       "      <th>risk</th>\n",
       "    </tr>\n",
       "    <tr>\n",
       "      <th>streamingtv</th>\n",
       "      <th></th>\n",
       "      <th></th>\n",
       "      <th></th>\n",
       "      <th></th>\n",
       "    </tr>\n",
       "  </thead>\n",
       "  <tbody>\n",
       "    <tr>\n",
       "      <th>no</th>\n",
       "      <td>0.342832</td>\n",
       "      <td>2246</td>\n",
       "      <td>0.072864</td>\n",
       "      <td>1.269897</td>\n",
       "    </tr>\n",
       "    <tr>\n",
       "      <th>no_internet_service</th>\n",
       "      <td>0.077805</td>\n",
       "      <td>1221</td>\n",
       "      <td>-0.192163</td>\n",
       "      <td>0.288201</td>\n",
       "    </tr>\n",
       "    <tr>\n",
       "      <th>yes</th>\n",
       "      <td>0.302723</td>\n",
       "      <td>2167</td>\n",
       "      <td>0.032755</td>\n",
       "      <td>1.121328</td>\n",
       "    </tr>\n",
       "  </tbody>\n",
       "</table>\n",
       "</div>"
      ],
      "text/plain": [
       "                         mean  count      diff      risk\n",
       "streamingtv                                             \n",
       "no                   0.342832   2246  0.072864  1.269897\n",
       "no_internet_service  0.077805   1221 -0.192163  0.288201\n",
       "yes                  0.302723   2167  0.032755  1.121328"
      ]
     },
     "metadata": {},
     "output_type": "display_data"
    },
    {
     "name": "stdout",
     "output_type": "stream",
     "text": [
      "\n",
      "\n",
      "streamingmovies\n"
     ]
    },
    {
     "data": {
      "text/html": [
       "<div>\n",
       "<style scoped>\n",
       "    .dataframe tbody tr th:only-of-type {\n",
       "        vertical-align: middle;\n",
       "    }\n",
       "\n",
       "    .dataframe tbody tr th {\n",
       "        vertical-align: top;\n",
       "    }\n",
       "\n",
       "    .dataframe thead th {\n",
       "        text-align: right;\n",
       "    }\n",
       "</style>\n",
       "<table border=\"1\" class=\"dataframe\">\n",
       "  <thead>\n",
       "    <tr style=\"text-align: right;\">\n",
       "      <th></th>\n",
       "      <th>mean</th>\n",
       "      <th>count</th>\n",
       "      <th>diff</th>\n",
       "      <th>risk</th>\n",
       "    </tr>\n",
       "    <tr>\n",
       "      <th>streamingmovies</th>\n",
       "      <th></th>\n",
       "      <th></th>\n",
       "      <th></th>\n",
       "      <th></th>\n",
       "    </tr>\n",
       "  </thead>\n",
       "  <tbody>\n",
       "    <tr>\n",
       "      <th>no</th>\n",
       "      <td>0.338906</td>\n",
       "      <td>2213</td>\n",
       "      <td>0.068938</td>\n",
       "      <td>1.255358</td>\n",
       "    </tr>\n",
       "    <tr>\n",
       "      <th>no_internet_service</th>\n",
       "      <td>0.077805</td>\n",
       "      <td>1221</td>\n",
       "      <td>-0.192163</td>\n",
       "      <td>0.288201</td>\n",
       "    </tr>\n",
       "    <tr>\n",
       "      <th>yes</th>\n",
       "      <td>0.307273</td>\n",
       "      <td>2200</td>\n",
       "      <td>0.037305</td>\n",
       "      <td>1.138182</td>\n",
       "    </tr>\n",
       "  </tbody>\n",
       "</table>\n",
       "</div>"
      ],
      "text/plain": [
       "                         mean  count      diff      risk\n",
       "streamingmovies                                         \n",
       "no                   0.338906   2213  0.068938  1.255358\n",
       "no_internet_service  0.077805   1221 -0.192163  0.288201\n",
       "yes                  0.307273   2200  0.037305  1.138182"
      ]
     },
     "metadata": {},
     "output_type": "display_data"
    },
    {
     "name": "stdout",
     "output_type": "stream",
     "text": [
      "\n",
      "\n",
      "contract\n"
     ]
    },
    {
     "data": {
      "text/html": [
       "<div>\n",
       "<style scoped>\n",
       "    .dataframe tbody tr th:only-of-type {\n",
       "        vertical-align: middle;\n",
       "    }\n",
       "\n",
       "    .dataframe tbody tr th {\n",
       "        vertical-align: top;\n",
       "    }\n",
       "\n",
       "    .dataframe thead th {\n",
       "        text-align: right;\n",
       "    }\n",
       "</style>\n",
       "<table border=\"1\" class=\"dataframe\">\n",
       "  <thead>\n",
       "    <tr style=\"text-align: right;\">\n",
       "      <th></th>\n",
       "      <th>mean</th>\n",
       "      <th>count</th>\n",
       "      <th>diff</th>\n",
       "      <th>risk</th>\n",
       "    </tr>\n",
       "    <tr>\n",
       "      <th>contract</th>\n",
       "      <th></th>\n",
       "      <th></th>\n",
       "      <th></th>\n",
       "      <th></th>\n",
       "    </tr>\n",
       "  </thead>\n",
       "  <tbody>\n",
       "    <tr>\n",
       "      <th>month-to-month</th>\n",
       "      <td>0.431701</td>\n",
       "      <td>3104</td>\n",
       "      <td>0.161733</td>\n",
       "      <td>1.599082</td>\n",
       "    </tr>\n",
       "    <tr>\n",
       "      <th>one_year</th>\n",
       "      <td>0.120573</td>\n",
       "      <td>1186</td>\n",
       "      <td>-0.149395</td>\n",
       "      <td>0.446621</td>\n",
       "    </tr>\n",
       "    <tr>\n",
       "      <th>two_year</th>\n",
       "      <td>0.028274</td>\n",
       "      <td>1344</td>\n",
       "      <td>-0.241694</td>\n",
       "      <td>0.104730</td>\n",
       "    </tr>\n",
       "  </tbody>\n",
       "</table>\n",
       "</div>"
      ],
      "text/plain": [
       "                    mean  count      diff      risk\n",
       "contract                                           \n",
       "month-to-month  0.431701   3104  0.161733  1.599082\n",
       "one_year        0.120573   1186 -0.149395  0.446621\n",
       "two_year        0.028274   1344 -0.241694  0.104730"
      ]
     },
     "metadata": {},
     "output_type": "display_data"
    },
    {
     "name": "stdout",
     "output_type": "stream",
     "text": [
      "\n",
      "\n",
      "paperlessbilling\n"
     ]
    },
    {
     "data": {
      "text/html": [
       "<div>\n",
       "<style scoped>\n",
       "    .dataframe tbody tr th:only-of-type {\n",
       "        vertical-align: middle;\n",
       "    }\n",
       "\n",
       "    .dataframe tbody tr th {\n",
       "        vertical-align: top;\n",
       "    }\n",
       "\n",
       "    .dataframe thead th {\n",
       "        text-align: right;\n",
       "    }\n",
       "</style>\n",
       "<table border=\"1\" class=\"dataframe\">\n",
       "  <thead>\n",
       "    <tr style=\"text-align: right;\">\n",
       "      <th></th>\n",
       "      <th>mean</th>\n",
       "      <th>count</th>\n",
       "      <th>diff</th>\n",
       "      <th>risk</th>\n",
       "    </tr>\n",
       "    <tr>\n",
       "      <th>paperlessbilling</th>\n",
       "      <th></th>\n",
       "      <th></th>\n",
       "      <th></th>\n",
       "      <th></th>\n",
       "    </tr>\n",
       "  </thead>\n",
       "  <tbody>\n",
       "    <tr>\n",
       "      <th>no</th>\n",
       "      <td>0.172071</td>\n",
       "      <td>2313</td>\n",
       "      <td>-0.097897</td>\n",
       "      <td>0.637375</td>\n",
       "    </tr>\n",
       "    <tr>\n",
       "      <th>yes</th>\n",
       "      <td>0.338151</td>\n",
       "      <td>3321</td>\n",
       "      <td>0.068183</td>\n",
       "      <td>1.252560</td>\n",
       "    </tr>\n",
       "  </tbody>\n",
       "</table>\n",
       "</div>"
      ],
      "text/plain": [
       "                      mean  count      diff      risk\n",
       "paperlessbilling                                     \n",
       "no                0.172071   2313 -0.097897  0.637375\n",
       "yes               0.338151   3321  0.068183  1.252560"
      ]
     },
     "metadata": {},
     "output_type": "display_data"
    },
    {
     "name": "stdout",
     "output_type": "stream",
     "text": [
      "\n",
      "\n",
      "paymentmethod\n"
     ]
    },
    {
     "data": {
      "text/html": [
       "<div>\n",
       "<style scoped>\n",
       "    .dataframe tbody tr th:only-of-type {\n",
       "        vertical-align: middle;\n",
       "    }\n",
       "\n",
       "    .dataframe tbody tr th {\n",
       "        vertical-align: top;\n",
       "    }\n",
       "\n",
       "    .dataframe thead th {\n",
       "        text-align: right;\n",
       "    }\n",
       "</style>\n",
       "<table border=\"1\" class=\"dataframe\">\n",
       "  <thead>\n",
       "    <tr style=\"text-align: right;\">\n",
       "      <th></th>\n",
       "      <th>mean</th>\n",
       "      <th>count</th>\n",
       "      <th>diff</th>\n",
       "      <th>risk</th>\n",
       "    </tr>\n",
       "    <tr>\n",
       "      <th>paymentmethod</th>\n",
       "      <th></th>\n",
       "      <th></th>\n",
       "      <th></th>\n",
       "      <th></th>\n",
       "    </tr>\n",
       "  </thead>\n",
       "  <tbody>\n",
       "    <tr>\n",
       "      <th>bank_transfer_(automatic)</th>\n",
       "      <td>0.168171</td>\n",
       "      <td>1219</td>\n",
       "      <td>-0.101797</td>\n",
       "      <td>0.622928</td>\n",
       "    </tr>\n",
       "    <tr>\n",
       "      <th>credit_card_(automatic)</th>\n",
       "      <td>0.164339</td>\n",
       "      <td>1217</td>\n",
       "      <td>-0.105630</td>\n",
       "      <td>0.608733</td>\n",
       "    </tr>\n",
       "    <tr>\n",
       "      <th>electronic_check</th>\n",
       "      <td>0.455890</td>\n",
       "      <td>1893</td>\n",
       "      <td>0.185922</td>\n",
       "      <td>1.688682</td>\n",
       "    </tr>\n",
       "    <tr>\n",
       "      <th>mailed_check</th>\n",
       "      <td>0.193870</td>\n",
       "      <td>1305</td>\n",
       "      <td>-0.076098</td>\n",
       "      <td>0.718121</td>\n",
       "    </tr>\n",
       "  </tbody>\n",
       "</table>\n",
       "</div>"
      ],
      "text/plain": [
       "                               mean  count      diff      risk\n",
       "paymentmethod                                                 \n",
       "bank_transfer_(automatic)  0.168171   1219 -0.101797  0.622928\n",
       "credit_card_(automatic)    0.164339   1217 -0.105630  0.608733\n",
       "electronic_check           0.455890   1893  0.185922  1.688682\n",
       "mailed_check               0.193870   1305 -0.076098  0.718121"
      ]
     },
     "metadata": {},
     "output_type": "display_data"
    },
    {
     "name": "stdout",
     "output_type": "stream",
     "text": [
      "\n",
      "\n"
     ]
    }
   ],
   "source": [
    "for c in categorical:\n",
    "        print(c)\n",
    "        df_group=df_full_train.groupby(c).churn.agg(['mean','count'])\n",
    "        df_group['diff']=df_group['mean']-global_churn\n",
    "        df_group['risk']=df_group['mean']/global_churn\n",
    "        display(df_group)\n",
    "        print()\n",
    "        print()\n",
    "        "
   ]
  },
  {
   "cell_type": "code",
   "execution_count": 26,
   "id": "d1c26860",
   "metadata": {
    "execution": {
     "iopub.execute_input": "2024-04-19T21:09:38.181304Z",
     "iopub.status.busy": "2024-04-19T21:09:38.180854Z",
     "iopub.status.idle": "2024-04-19T21:09:38.186462Z",
     "shell.execute_reply": "2024-04-19T21:09:38.185409Z"
    },
    "papermill": {
     "duration": 0.036036,
     "end_time": "2024-04-19T21:09:38.189066",
     "exception": false,
     "start_time": "2024-04-19T21:09:38.153030",
     "status": "completed"
    },
    "tags": []
   },
   "outputs": [],
   "source": [
    "from sklearn.metrics import mutual_info_score"
   ]
  },
  {
   "cell_type": "code",
   "execution_count": 27,
   "id": "5f89f747",
   "metadata": {
    "execution": {
     "iopub.execute_input": "2024-04-19T21:09:38.244851Z",
     "iopub.status.busy": "2024-04-19T21:09:38.244412Z",
     "iopub.status.idle": "2024-04-19T21:09:38.281826Z",
     "shell.execute_reply": "2024-04-19T21:09:38.280764Z"
    },
    "papermill": {
     "duration": 0.069873,
     "end_time": "2024-04-19T21:09:38.284557",
     "exception": false,
     "start_time": "2024-04-19T21:09:38.214684",
     "status": "completed"
    },
    "tags": []
   },
   "outputs": [
    {
     "data": {
      "text/plain": [
       "0.0001174846211139946"
      ]
     },
     "execution_count": 27,
     "metadata": {},
     "output_type": "execute_result"
    }
   ],
   "source": [
    "mutual_info_score(df_full_train.churn,df_full_train.gender)"
   ]
  },
  {
   "cell_type": "code",
   "execution_count": null,
   "id": "eadff95a",
   "metadata": {
    "papermill": {
     "duration": 0.0254,
     "end_time": "2024-04-19T21:09:38.335868",
     "exception": false,
     "start_time": "2024-04-19T21:09:38.310468",
     "status": "completed"
    },
    "tags": []
   },
   "outputs": [],
   "source": []
  },
  {
   "cell_type": "code",
   "execution_count": 28,
   "id": "4874af90",
   "metadata": {
    "execution": {
     "iopub.execute_input": "2024-04-19T21:09:38.389701Z",
     "iopub.status.busy": "2024-04-19T21:09:38.389286Z",
     "iopub.status.idle": "2024-04-19T21:09:38.649766Z",
     "shell.execute_reply": "2024-04-19T21:09:38.648467Z"
    },
    "papermill": {
     "duration": 0.291307,
     "end_time": "2024-04-19T21:09:38.652848",
     "exception": false,
     "start_time": "2024-04-19T21:09:38.361541",
     "status": "completed"
    },
    "tags": []
   },
   "outputs": [
    {
     "data": {
      "text/plain": [
       "contract            0.098320\n",
       "onlinesecurity      0.063085\n",
       "techsupport         0.061032\n",
       "internetservice     0.055868\n",
       "onlinebackup        0.046923\n",
       "deviceprotection    0.043453\n",
       "paymentmethod       0.043210\n",
       "streamingtv         0.031853\n",
       "streamingmovies     0.031581\n",
       "paperlessbilling    0.017589\n",
       "dependents          0.012346\n",
       "partner             0.009968\n",
       "seniorcitizen       0.009410\n",
       "multiplelines       0.000857\n",
       "phoneservice        0.000229\n",
       "gender              0.000117\n",
       "dtype: float64"
      ]
     },
     "execution_count": 28,
     "metadata": {},
     "output_type": "execute_result"
    }
   ],
   "source": [
    "def mutual_infoscore(series):\n",
    "    return mutual_info_score(df_full_train.churn,series)\n",
    "\n",
    "mi=df_full_train[categorical].apply(mutual_infoscore)\n",
    "\n",
    "mi.sort_values(ascending=False)\n"
   ]
  },
  {
   "cell_type": "code",
   "execution_count": null,
   "id": "33dfc5ef",
   "metadata": {
    "papermill": {
     "duration": 0.02693,
     "end_time": "2024-04-19T21:09:38.706540",
     "exception": false,
     "start_time": "2024-04-19T21:09:38.679610",
     "status": "completed"
    },
    "tags": []
   },
   "outputs": [],
   "source": []
  },
  {
   "cell_type": "markdown",
   "id": "01bb18c7",
   "metadata": {
    "papermill": {
     "duration": 0.025652,
     "end_time": "2024-04-19T21:09:38.757606",
     "exception": false,
     "start_time": "2024-04-19T21:09:38.731954",
     "status": "completed"
    },
    "tags": []
   },
   "source": [
    "**EDA CORRELATION** with numeric values"
   ]
  },
  {
   "cell_type": "code",
   "execution_count": 29,
   "id": "eeb18cc3",
   "metadata": {
    "execution": {
     "iopub.execute_input": "2024-04-19T21:09:38.813290Z",
     "iopub.status.busy": "2024-04-19T21:09:38.812858Z",
     "iopub.status.idle": "2024-04-19T21:09:38.830164Z",
     "shell.execute_reply": "2024-04-19T21:09:38.828973Z"
    },
    "papermill": {
     "duration": 0.047574,
     "end_time": "2024-04-19T21:09:38.832886",
     "exception": false,
     "start_time": "2024-04-19T21:09:38.785312",
     "status": "completed"
    },
    "tags": []
   },
   "outputs": [
    {
     "data": {
      "text/plain": [
       "tenure           -0.351885\n",
       "monthlycharges    0.196805\n",
       "totalcharges     -0.196353\n",
       "dtype: float64"
      ]
     },
     "execution_count": 29,
     "metadata": {},
     "output_type": "execute_result"
    }
   ],
   "source": [
    "df_full_train[numeric].corrwith(df_full_train.churn)"
   ]
  },
  {
   "cell_type": "markdown",
   "id": "005efc70",
   "metadata": {
    "papermill": {
     "duration": 0.026689,
     "end_time": "2024-04-19T21:09:38.885417",
     "exception": false,
     "start_time": "2024-04-19T21:09:38.858728",
     "status": "completed"
    },
    "tags": []
   },
   "source": [
    "**ONE HOT ENCODING** (Encoding Categorical Variables)"
   ]
  },
  {
   "cell_type": "markdown",
   "id": "2a267ba5",
   "metadata": {
    "papermill": {
     "duration": 0.025552,
     "end_time": "2024-04-19T21:09:38.937782",
     "exception": false,
     "start_time": "2024-04-19T21:09:38.912230",
     "status": "completed"
    },
    "tags": []
   },
   "source": []
  },
  {
   "cell_type": "code",
   "execution_count": 30,
   "id": "143a5e1b",
   "metadata": {
    "execution": {
     "iopub.execute_input": "2024-04-19T21:09:39.006813Z",
     "iopub.status.busy": "2024-04-19T21:09:39.005884Z",
     "iopub.status.idle": "2024-04-19T21:09:39.025700Z",
     "shell.execute_reply": "2024-04-19T21:09:39.024552Z"
    },
    "papermill": {
     "duration": 0.065085,
     "end_time": "2024-04-19T21:09:39.028540",
     "exception": false,
     "start_time": "2024-04-19T21:09:38.963455",
     "status": "completed"
    },
    "tags": []
   },
   "outputs": [],
   "source": [
    "from sklearn.feature_extraction import DictVectorizer"
   ]
  },
  {
   "cell_type": "code",
   "execution_count": 31,
   "id": "0ef73253",
   "metadata": {
    "execution": {
     "iopub.execute_input": "2024-04-19T21:09:39.082532Z",
     "iopub.status.busy": "2024-04-19T21:09:39.082125Z",
     "iopub.status.idle": "2024-04-19T21:09:39.199851Z",
     "shell.execute_reply": "2024-04-19T21:09:39.198543Z"
    },
    "papermill": {
     "duration": 0.148017,
     "end_time": "2024-04-19T21:09:39.202922",
     "exception": false,
     "start_time": "2024-04-19T21:09:39.054905",
     "status": "completed"
    },
    "tags": []
   },
   "outputs": [],
   "source": [
    "train_dicts=df_train[categorical+numeric].to_dict(orient='records')"
   ]
  },
  {
   "cell_type": "code",
   "execution_count": 32,
   "id": "9591c186",
   "metadata": {
    "execution": {
     "iopub.execute_input": "2024-04-19T21:09:39.260718Z",
     "iopub.status.busy": "2024-04-19T21:09:39.260326Z",
     "iopub.status.idle": "2024-04-19T21:09:39.265725Z",
     "shell.execute_reply": "2024-04-19T21:09:39.264500Z"
    },
    "papermill": {
     "duration": 0.037989,
     "end_time": "2024-04-19T21:09:39.268282",
     "exception": false,
     "start_time": "2024-04-19T21:09:39.230293",
     "status": "completed"
    },
    "tags": []
   },
   "outputs": [],
   "source": [
    "dv=DictVectorizer(sparse=False)"
   ]
  },
  {
   "cell_type": "code",
   "execution_count": 33,
   "id": "283fa626",
   "metadata": {
    "execution": {
     "iopub.execute_input": "2024-04-19T21:09:39.322724Z",
     "iopub.status.busy": "2024-04-19T21:09:39.322310Z",
     "iopub.status.idle": "2024-04-19T21:09:39.493805Z",
     "shell.execute_reply": "2024-04-19T21:09:39.492688Z"
    },
    "papermill": {
     "duration": 0.202247,
     "end_time": "2024-04-19T21:09:39.496734",
     "exception": false,
     "start_time": "2024-04-19T21:09:39.294487",
     "status": "completed"
    },
    "tags": []
   },
   "outputs": [],
   "source": [
    "x_train=dv.fit_transform(train_dicts)"
   ]
  },
  {
   "cell_type": "markdown",
   "id": "17125e75",
   "metadata": {
    "papermill": {
     "duration": 0.02543,
     "end_time": "2024-04-19T21:09:39.548035",
     "exception": false,
     "start_time": "2024-04-19T21:09:39.522605",
     "status": "completed"
    },
    "tags": []
   },
   "source": [
    "**ENCODING THE VALIDATION SET**"
   ]
  },
  {
   "cell_type": "code",
   "execution_count": 34,
   "id": "dc2ac56c",
   "metadata": {
    "execution": {
     "iopub.execute_input": "2024-04-19T21:09:39.602425Z",
     "iopub.status.busy": "2024-04-19T21:09:39.601994Z",
     "iopub.status.idle": "2024-04-19T21:09:39.699515Z",
     "shell.execute_reply": "2024-04-19T21:09:39.698328Z"
    },
    "papermill": {
     "duration": 0.12847,
     "end_time": "2024-04-19T21:09:39.702373",
     "exception": false,
     "start_time": "2024-04-19T21:09:39.573903",
     "status": "completed"
    },
    "tags": []
   },
   "outputs": [],
   "source": [
    "val_dicts=df_val[categorical+numeric].to_dict(orient='records')\n",
    "x_val=dv.transform(val_dicts)"
   ]
  },
  {
   "cell_type": "markdown",
   "id": "0cfef320",
   "metadata": {
    "papermill": {
     "duration": 0.026116,
     "end_time": "2024-04-19T21:09:39.756499",
     "exception": false,
     "start_time": "2024-04-19T21:09:39.730383",
     "status": "completed"
    },
    "tags": []
   },
   "source": [
    "**LOGISTIC REGRESSION**"
   ]
  },
  {
   "cell_type": "code",
   "execution_count": 35,
   "id": "b13785a3",
   "metadata": {
    "execution": {
     "iopub.execute_input": "2024-04-19T21:09:39.812291Z",
     "iopub.status.busy": "2024-04-19T21:09:39.811871Z",
     "iopub.status.idle": "2024-04-19T21:09:40.023865Z",
     "shell.execute_reply": "2024-04-19T21:09:40.022585Z"
    },
    "papermill": {
     "duration": 0.242574,
     "end_time": "2024-04-19T21:09:40.026693",
     "exception": false,
     "start_time": "2024-04-19T21:09:39.784119",
     "status": "completed"
    },
    "tags": []
   },
   "outputs": [],
   "source": [
    "from sklearn.linear_model import LogisticRegression"
   ]
  },
  {
   "cell_type": "code",
   "execution_count": 36,
   "id": "78e35a48",
   "metadata": {
    "execution": {
     "iopub.execute_input": "2024-04-19T21:09:40.081834Z",
     "iopub.status.busy": "2024-04-19T21:09:40.081389Z",
     "iopub.status.idle": "2024-04-19T21:09:40.212413Z",
     "shell.execute_reply": "2024-04-19T21:09:40.211263Z"
    },
    "papermill": {
     "duration": 0.163257,
     "end_time": "2024-04-19T21:09:40.216260",
     "exception": false,
     "start_time": "2024-04-19T21:09:40.053003",
     "status": "completed"
    },
    "tags": []
   },
   "outputs": [
    {
     "data": {
      "text/html": [
       "<style>#sk-container-id-1 {color: black;background-color: white;}#sk-container-id-1 pre{padding: 0;}#sk-container-id-1 div.sk-toggleable {background-color: white;}#sk-container-id-1 label.sk-toggleable__label {cursor: pointer;display: block;width: 100%;margin-bottom: 0;padding: 0.3em;box-sizing: border-box;text-align: center;}#sk-container-id-1 label.sk-toggleable__label-arrow:before {content: \"▸\";float: left;margin-right: 0.25em;color: #696969;}#sk-container-id-1 label.sk-toggleable__label-arrow:hover:before {color: black;}#sk-container-id-1 div.sk-estimator:hover label.sk-toggleable__label-arrow:before {color: black;}#sk-container-id-1 div.sk-toggleable__content {max-height: 0;max-width: 0;overflow: hidden;text-align: left;background-color: #f0f8ff;}#sk-container-id-1 div.sk-toggleable__content pre {margin: 0.2em;color: black;border-radius: 0.25em;background-color: #f0f8ff;}#sk-container-id-1 input.sk-toggleable__control:checked~div.sk-toggleable__content {max-height: 200px;max-width: 100%;overflow: auto;}#sk-container-id-1 input.sk-toggleable__control:checked~label.sk-toggleable__label-arrow:before {content: \"▾\";}#sk-container-id-1 div.sk-estimator input.sk-toggleable__control:checked~label.sk-toggleable__label {background-color: #d4ebff;}#sk-container-id-1 div.sk-label input.sk-toggleable__control:checked~label.sk-toggleable__label {background-color: #d4ebff;}#sk-container-id-1 input.sk-hidden--visually {border: 0;clip: rect(1px 1px 1px 1px);clip: rect(1px, 1px, 1px, 1px);height: 1px;margin: -1px;overflow: hidden;padding: 0;position: absolute;width: 1px;}#sk-container-id-1 div.sk-estimator {font-family: monospace;background-color: #f0f8ff;border: 1px dotted black;border-radius: 0.25em;box-sizing: border-box;margin-bottom: 0.5em;}#sk-container-id-1 div.sk-estimator:hover {background-color: #d4ebff;}#sk-container-id-1 div.sk-parallel-item::after {content: \"\";width: 100%;border-bottom: 1px solid gray;flex-grow: 1;}#sk-container-id-1 div.sk-label:hover label.sk-toggleable__label {background-color: #d4ebff;}#sk-container-id-1 div.sk-serial::before {content: \"\";position: absolute;border-left: 1px solid gray;box-sizing: border-box;top: 0;bottom: 0;left: 50%;z-index: 0;}#sk-container-id-1 div.sk-serial {display: flex;flex-direction: column;align-items: center;background-color: white;padding-right: 0.2em;padding-left: 0.2em;position: relative;}#sk-container-id-1 div.sk-item {position: relative;z-index: 1;}#sk-container-id-1 div.sk-parallel {display: flex;align-items: stretch;justify-content: center;background-color: white;position: relative;}#sk-container-id-1 div.sk-item::before, #sk-container-id-1 div.sk-parallel-item::before {content: \"\";position: absolute;border-left: 1px solid gray;box-sizing: border-box;top: 0;bottom: 0;left: 50%;z-index: -1;}#sk-container-id-1 div.sk-parallel-item {display: flex;flex-direction: column;z-index: 1;position: relative;background-color: white;}#sk-container-id-1 div.sk-parallel-item:first-child::after {align-self: flex-end;width: 50%;}#sk-container-id-1 div.sk-parallel-item:last-child::after {align-self: flex-start;width: 50%;}#sk-container-id-1 div.sk-parallel-item:only-child::after {width: 0;}#sk-container-id-1 div.sk-dashed-wrapped {border: 1px dashed gray;margin: 0 0.4em 0.5em 0.4em;box-sizing: border-box;padding-bottom: 0.4em;background-color: white;}#sk-container-id-1 div.sk-label label {font-family: monospace;font-weight: bold;display: inline-block;line-height: 1.2em;}#sk-container-id-1 div.sk-label-container {text-align: center;}#sk-container-id-1 div.sk-container {/* jupyter's `normalize.less` sets `[hidden] { display: none; }` but bootstrap.min.css set `[hidden] { display: none !important; }` so we also need the `!important` here to be able to override the default hidden behavior on the sphinx rendered scikit-learn.org. See: https://github.com/scikit-learn/scikit-learn/issues/21755 */display: inline-block !important;position: relative;}#sk-container-id-1 div.sk-text-repr-fallback {display: none;}</style><div id=\"sk-container-id-1\" class=\"sk-top-container\"><div class=\"sk-text-repr-fallback\"><pre>LogisticRegression()</pre><b>In a Jupyter environment, please rerun this cell to show the HTML representation or trust the notebook. <br />On GitHub, the HTML representation is unable to render, please try loading this page with nbviewer.org.</b></div><div class=\"sk-container\" hidden><div class=\"sk-item\"><div class=\"sk-estimator sk-toggleable\"><input class=\"sk-toggleable__control sk-hidden--visually\" id=\"sk-estimator-id-1\" type=\"checkbox\" checked><label for=\"sk-estimator-id-1\" class=\"sk-toggleable__label sk-toggleable__label-arrow\">LogisticRegression</label><div class=\"sk-toggleable__content\"><pre>LogisticRegression()</pre></div></div></div></div></div>"
      ],
      "text/plain": [
       "LogisticRegression()"
      ]
     },
     "execution_count": 36,
     "metadata": {},
     "output_type": "execute_result"
    }
   ],
   "source": [
    "model=LogisticRegression()\n",
    "model.fit(x_train,y_train)"
   ]
  },
  {
   "cell_type": "code",
   "execution_count": 37,
   "id": "ea681bc6",
   "metadata": {
    "execution": {
     "iopub.execute_input": "2024-04-19T21:09:40.331406Z",
     "iopub.status.busy": "2024-04-19T21:09:40.330965Z",
     "iopub.status.idle": "2024-04-19T21:09:40.341596Z",
     "shell.execute_reply": "2024-04-19T21:09:40.339912Z"
    },
    "papermill": {
     "duration": 0.065959,
     "end_time": "2024-04-19T21:09:40.346176",
     "exception": false,
     "start_time": "2024-04-19T21:09:40.280217",
     "status": "completed"
    },
    "tags": []
   },
   "outputs": [],
   "source": [
    "y_predict_val=model.predict_proba(x_val)[:,1]"
   ]
  },
  {
   "cell_type": "code",
   "execution_count": 38,
   "id": "6704801d",
   "metadata": {
    "execution": {
     "iopub.execute_input": "2024-04-19T21:09:40.463846Z",
     "iopub.status.busy": "2024-04-19T21:09:40.463421Z",
     "iopub.status.idle": "2024-04-19T21:09:40.468754Z",
     "shell.execute_reply": "2024-04-19T21:09:40.467409Z"
    },
    "papermill": {
     "duration": 0.063327,
     "end_time": "2024-04-19T21:09:40.471235",
     "exception": false,
     "start_time": "2024-04-19T21:09:40.407908",
     "status": "completed"
    },
    "tags": []
   },
   "outputs": [],
   "source": [
    "churn_decision=(y_predict_val>0.5)"
   ]
  },
  {
   "cell_type": "code",
   "execution_count": 39,
   "id": "747c1b19",
   "metadata": {
    "execution": {
     "iopub.execute_input": "2024-04-19T21:09:40.529410Z",
     "iopub.status.busy": "2024-04-19T21:09:40.528977Z",
     "iopub.status.idle": "2024-04-19T21:09:40.537221Z",
     "shell.execute_reply": "2024-04-19T21:09:40.536046Z"
    },
    "papermill": {
     "duration": 0.040055,
     "end_time": "2024-04-19T21:09:40.539793",
     "exception": false,
     "start_time": "2024-04-19T21:09:40.499738",
     "status": "completed"
    },
    "tags": []
   },
   "outputs": [
    {
     "data": {
      "text/plain": [
       "0.8034066713981547"
      ]
     },
     "execution_count": 39,
     "metadata": {},
     "output_type": "execute_result"
    }
   ],
   "source": [
    "(churn_decision == y_val).mean()"
   ]
  },
  {
   "cell_type": "code",
   "execution_count": 40,
   "id": "db11448f",
   "metadata": {
    "execution": {
     "iopub.execute_input": "2024-04-19T21:09:40.594745Z",
     "iopub.status.busy": "2024-04-19T21:09:40.594177Z",
     "iopub.status.idle": "2024-04-19T21:09:40.748371Z",
     "shell.execute_reply": "2024-04-19T21:09:40.747157Z"
    },
    "papermill": {
     "duration": 0.185331,
     "end_time": "2024-04-19T21:09:40.751232",
     "exception": false,
     "start_time": "2024-04-19T21:09:40.565901",
     "status": "completed"
    },
    "tags": []
   },
   "outputs": [],
   "source": [
    "dicts_full_train=df_full_train[categorical+numeric].to_dict(orient='records')"
   ]
  },
  {
   "cell_type": "code",
   "execution_count": 41,
   "id": "82a62b45",
   "metadata": {
    "execution": {
     "iopub.execute_input": "2024-04-19T21:09:40.808007Z",
     "iopub.status.busy": "2024-04-19T21:09:40.807592Z",
     "iopub.status.idle": "2024-04-19T21:09:40.812920Z",
     "shell.execute_reply": "2024-04-19T21:09:40.811553Z"
    },
    "papermill": {
     "duration": 0.036532,
     "end_time": "2024-04-19T21:09:40.815660",
     "exception": false,
     "start_time": "2024-04-19T21:09:40.779128",
     "status": "completed"
    },
    "tags": []
   },
   "outputs": [],
   "source": [
    "dv=DictVectorizer(sparse=False)"
   ]
  },
  {
   "cell_type": "code",
   "execution_count": 42,
   "id": "a63e34e6",
   "metadata": {
    "execution": {
     "iopub.execute_input": "2024-04-19T21:09:40.870615Z",
     "iopub.status.busy": "2024-04-19T21:09:40.870203Z",
     "iopub.status.idle": "2024-04-19T21:09:41.093253Z",
     "shell.execute_reply": "2024-04-19T21:09:41.091937Z"
    },
    "papermill": {
     "duration": 0.25444,
     "end_time": "2024-04-19T21:09:41.096151",
     "exception": false,
     "start_time": "2024-04-19T21:09:40.841711",
     "status": "completed"
    },
    "tags": []
   },
   "outputs": [],
   "source": [
    "X_ft=dv.fit_transform(dicts_full_train)"
   ]
  },
  {
   "cell_type": "code",
   "execution_count": 43,
   "id": "d06c548f",
   "metadata": {
    "execution": {
     "iopub.execute_input": "2024-04-19T21:09:41.151501Z",
     "iopub.status.busy": "2024-04-19T21:09:41.150493Z",
     "iopub.status.idle": "2024-04-19T21:09:41.156120Z",
     "shell.execute_reply": "2024-04-19T21:09:41.154937Z"
    },
    "papermill": {
     "duration": 0.036085,
     "end_time": "2024-04-19T21:09:41.158526",
     "exception": false,
     "start_time": "2024-04-19T21:09:41.122441",
     "status": "completed"
    },
    "tags": []
   },
   "outputs": [],
   "source": [
    "y_ft=df_full_train.churn"
   ]
  },
  {
   "cell_type": "code",
   "execution_count": 44,
   "id": "d00696c7",
   "metadata": {
    "execution": {
     "iopub.execute_input": "2024-04-19T21:09:41.212803Z",
     "iopub.status.busy": "2024-04-19T21:09:41.212402Z",
     "iopub.status.idle": "2024-04-19T21:09:41.217598Z",
     "shell.execute_reply": "2024-04-19T21:09:41.216309Z"
    },
    "papermill": {
     "duration": 0.035,
     "end_time": "2024-04-19T21:09:41.219891",
     "exception": false,
     "start_time": "2024-04-19T21:09:41.184891",
     "status": "completed"
    },
    "tags": []
   },
   "outputs": [],
   "source": [
    "model=LogisticRegression()"
   ]
  },
  {
   "cell_type": "code",
   "execution_count": 45,
   "id": "5fda92c1",
   "metadata": {
    "execution": {
     "iopub.execute_input": "2024-04-19T21:09:41.275280Z",
     "iopub.status.busy": "2024-04-19T21:09:41.274848Z",
     "iopub.status.idle": "2024-04-19T21:09:41.370633Z",
     "shell.execute_reply": "2024-04-19T21:09:41.369000Z"
    },
    "papermill": {
     "duration": 0.127537,
     "end_time": "2024-04-19T21:09:41.375022",
     "exception": false,
     "start_time": "2024-04-19T21:09:41.247485",
     "status": "completed"
    },
    "tags": []
   },
   "outputs": [
    {
     "data": {
      "text/html": [
       "<style>#sk-container-id-2 {color: black;background-color: white;}#sk-container-id-2 pre{padding: 0;}#sk-container-id-2 div.sk-toggleable {background-color: white;}#sk-container-id-2 label.sk-toggleable__label {cursor: pointer;display: block;width: 100%;margin-bottom: 0;padding: 0.3em;box-sizing: border-box;text-align: center;}#sk-container-id-2 label.sk-toggleable__label-arrow:before {content: \"▸\";float: left;margin-right: 0.25em;color: #696969;}#sk-container-id-2 label.sk-toggleable__label-arrow:hover:before {color: black;}#sk-container-id-2 div.sk-estimator:hover label.sk-toggleable__label-arrow:before {color: black;}#sk-container-id-2 div.sk-toggleable__content {max-height: 0;max-width: 0;overflow: hidden;text-align: left;background-color: #f0f8ff;}#sk-container-id-2 div.sk-toggleable__content pre {margin: 0.2em;color: black;border-radius: 0.25em;background-color: #f0f8ff;}#sk-container-id-2 input.sk-toggleable__control:checked~div.sk-toggleable__content {max-height: 200px;max-width: 100%;overflow: auto;}#sk-container-id-2 input.sk-toggleable__control:checked~label.sk-toggleable__label-arrow:before {content: \"▾\";}#sk-container-id-2 div.sk-estimator input.sk-toggleable__control:checked~label.sk-toggleable__label {background-color: #d4ebff;}#sk-container-id-2 div.sk-label input.sk-toggleable__control:checked~label.sk-toggleable__label {background-color: #d4ebff;}#sk-container-id-2 input.sk-hidden--visually {border: 0;clip: rect(1px 1px 1px 1px);clip: rect(1px, 1px, 1px, 1px);height: 1px;margin: -1px;overflow: hidden;padding: 0;position: absolute;width: 1px;}#sk-container-id-2 div.sk-estimator {font-family: monospace;background-color: #f0f8ff;border: 1px dotted black;border-radius: 0.25em;box-sizing: border-box;margin-bottom: 0.5em;}#sk-container-id-2 div.sk-estimator:hover {background-color: #d4ebff;}#sk-container-id-2 div.sk-parallel-item::after {content: \"\";width: 100%;border-bottom: 1px solid gray;flex-grow: 1;}#sk-container-id-2 div.sk-label:hover label.sk-toggleable__label {background-color: #d4ebff;}#sk-container-id-2 div.sk-serial::before {content: \"\";position: absolute;border-left: 1px solid gray;box-sizing: border-box;top: 0;bottom: 0;left: 50%;z-index: 0;}#sk-container-id-2 div.sk-serial {display: flex;flex-direction: column;align-items: center;background-color: white;padding-right: 0.2em;padding-left: 0.2em;position: relative;}#sk-container-id-2 div.sk-item {position: relative;z-index: 1;}#sk-container-id-2 div.sk-parallel {display: flex;align-items: stretch;justify-content: center;background-color: white;position: relative;}#sk-container-id-2 div.sk-item::before, #sk-container-id-2 div.sk-parallel-item::before {content: \"\";position: absolute;border-left: 1px solid gray;box-sizing: border-box;top: 0;bottom: 0;left: 50%;z-index: -1;}#sk-container-id-2 div.sk-parallel-item {display: flex;flex-direction: column;z-index: 1;position: relative;background-color: white;}#sk-container-id-2 div.sk-parallel-item:first-child::after {align-self: flex-end;width: 50%;}#sk-container-id-2 div.sk-parallel-item:last-child::after {align-self: flex-start;width: 50%;}#sk-container-id-2 div.sk-parallel-item:only-child::after {width: 0;}#sk-container-id-2 div.sk-dashed-wrapped {border: 1px dashed gray;margin: 0 0.4em 0.5em 0.4em;box-sizing: border-box;padding-bottom: 0.4em;background-color: white;}#sk-container-id-2 div.sk-label label {font-family: monospace;font-weight: bold;display: inline-block;line-height: 1.2em;}#sk-container-id-2 div.sk-label-container {text-align: center;}#sk-container-id-2 div.sk-container {/* jupyter's `normalize.less` sets `[hidden] { display: none; }` but bootstrap.min.css set `[hidden] { display: none !important; }` so we also need the `!important` here to be able to override the default hidden behavior on the sphinx rendered scikit-learn.org. See: https://github.com/scikit-learn/scikit-learn/issues/21755 */display: inline-block !important;position: relative;}#sk-container-id-2 div.sk-text-repr-fallback {display: none;}</style><div id=\"sk-container-id-2\" class=\"sk-top-container\"><div class=\"sk-text-repr-fallback\"><pre>LogisticRegression()</pre><b>In a Jupyter environment, please rerun this cell to show the HTML representation or trust the notebook. <br />On GitHub, the HTML representation is unable to render, please try loading this page with nbviewer.org.</b></div><div class=\"sk-container\" hidden><div class=\"sk-item\"><div class=\"sk-estimator sk-toggleable\"><input class=\"sk-toggleable__control sk-hidden--visually\" id=\"sk-estimator-id-2\" type=\"checkbox\" checked><label for=\"sk-estimator-id-2\" class=\"sk-toggleable__label sk-toggleable__label-arrow\">LogisticRegression</label><div class=\"sk-toggleable__content\"><pre>LogisticRegression()</pre></div></div></div></div></div>"
      ],
      "text/plain": [
       "LogisticRegression()"
      ]
     },
     "execution_count": 45,
     "metadata": {},
     "output_type": "execute_result"
    }
   ],
   "source": [
    "model.fit(X_ft,y_ft)"
   ]
  },
  {
   "cell_type": "code",
   "execution_count": 46,
   "id": "e3364dba",
   "metadata": {
    "execution": {
     "iopub.execute_input": "2024-04-19T21:09:41.489542Z",
     "iopub.status.busy": "2024-04-19T21:09:41.489116Z",
     "iopub.status.idle": "2024-04-19T21:09:41.588832Z",
     "shell.execute_reply": "2024-04-19T21:09:41.587552Z"
    },
    "papermill": {
     "duration": 0.155604,
     "end_time": "2024-04-19T21:09:41.591692",
     "exception": false,
     "start_time": "2024-04-19T21:09:41.436088",
     "status": "completed"
    },
    "tags": []
   },
   "outputs": [],
   "source": [
    "dicts_test=df_test[categorical+numeric].to_dict(orient='records')\n",
    "dv=DictVectorizer(sparse=False)\n",
    "X_test=dv.fit_transform(dicts_test)"
   ]
  },
  {
   "cell_type": "code",
   "execution_count": 47,
   "id": "93434a85",
   "metadata": {
    "execution": {
     "iopub.execute_input": "2024-04-19T21:09:41.647310Z",
     "iopub.status.busy": "2024-04-19T21:09:41.646828Z",
     "iopub.status.idle": "2024-04-19T21:09:41.658796Z",
     "shell.execute_reply": "2024-04-19T21:09:41.657110Z"
    },
    "papermill": {
     "duration": 0.04474,
     "end_time": "2024-04-19T21:09:41.663185",
     "exception": false,
     "start_time": "2024-04-19T21:09:41.618445",
     "status": "completed"
    },
    "tags": []
   },
   "outputs": [],
   "source": [
    "y_pred=model.predict_proba(X_test)"
   ]
  },
  {
   "cell_type": "code",
   "execution_count": 48,
   "id": "389c3705",
   "metadata": {
    "execution": {
     "iopub.execute_input": "2024-04-19T21:09:41.777506Z",
     "iopub.status.busy": "2024-04-19T21:09:41.777096Z",
     "iopub.status.idle": "2024-04-19T21:09:41.784615Z",
     "shell.execute_reply": "2024-04-19T21:09:41.783509Z"
    },
    "papermill": {
     "duration": 0.06597,
     "end_time": "2024-04-19T21:09:41.787011",
     "exception": false,
     "start_time": "2024-04-19T21:09:41.721041",
     "status": "completed"
    },
    "tags": []
   },
   "outputs": [
    {
     "data": {
      "text/plain": [
       "array([[0.93775704, 0.06224296],\n",
       "       [0.82526125, 0.17473875],\n",
       "       [0.62973299, 0.37026701],\n",
       "       ...,\n",
       "       [0.99361995, 0.00638005],\n",
       "       [0.83423903, 0.16576097],\n",
       "       [0.40311479, 0.59688521]])"
      ]
     },
     "execution_count": 48,
     "metadata": {},
     "output_type": "execute_result"
    }
   ],
   "source": [
    "y_pred"
   ]
  },
  {
   "cell_type": "code",
   "execution_count": 49,
   "id": "3ff7fdeb",
   "metadata": {
    "execution": {
     "iopub.execute_input": "2024-04-19T21:09:41.843399Z",
     "iopub.status.busy": "2024-04-19T21:09:41.842962Z",
     "iopub.status.idle": "2024-04-19T21:09:41.848332Z",
     "shell.execute_reply": "2024-04-19T21:09:41.846997Z"
    },
    "papermill": {
     "duration": 0.036606,
     "end_time": "2024-04-19T21:09:41.850863",
     "exception": false,
     "start_time": "2024-04-19T21:09:41.814257",
     "status": "completed"
    },
    "tags": []
   },
   "outputs": [],
   "source": [
    "y_t=y_pred[:,1]"
   ]
  },
  {
   "cell_type": "code",
   "execution_count": 50,
   "id": "52bf0e0b",
   "metadata": {
    "execution": {
     "iopub.execute_input": "2024-04-19T21:09:41.906250Z",
     "iopub.status.busy": "2024-04-19T21:09:41.905832Z",
     "iopub.status.idle": "2024-04-19T21:09:41.911770Z",
     "shell.execute_reply": "2024-04-19T21:09:41.910504Z"
    },
    "papermill": {
     "duration": 0.03681,
     "end_time": "2024-04-19T21:09:41.914429",
     "exception": false,
     "start_time": "2024-04-19T21:09:41.877619",
     "status": "completed"
    },
    "tags": []
   },
   "outputs": [],
   "source": [
    "churn_d=(y_t >=0.5)"
   ]
  },
  {
   "cell_type": "code",
   "execution_count": 51,
   "id": "a4587deb",
   "metadata": {
    "execution": {
     "iopub.execute_input": "2024-04-19T21:09:41.969854Z",
     "iopub.status.busy": "2024-04-19T21:09:41.969411Z",
     "iopub.status.idle": "2024-04-19T21:09:41.976865Z",
     "shell.execute_reply": "2024-04-19T21:09:41.975562Z"
    },
    "papermill": {
     "duration": 0.038368,
     "end_time": "2024-04-19T21:09:41.979462",
     "exception": false,
     "start_time": "2024-04-19T21:09:41.941094",
     "status": "completed"
    },
    "tags": []
   },
   "outputs": [
    {
     "data": {
      "text/plain": [
       "array([False, False, False, ..., False, False,  True])"
      ]
     },
     "execution_count": 51,
     "metadata": {},
     "output_type": "execute_result"
    }
   ],
   "source": [
    "churn_d"
   ]
  },
  {
   "cell_type": "code",
   "execution_count": null,
   "id": "e4a11027",
   "metadata": {
    "execution": {
     "iopub.execute_input": "2024-04-08T23:04:10.453195Z",
     "iopub.status.busy": "2024-04-08T23:04:10.452798Z",
     "iopub.status.idle": "2024-04-08T23:04:10.460639Z",
     "shell.execute_reply": "2024-04-08T23:04:10.459393Z",
     "shell.execute_reply.started": "2024-04-08T23:04:10.453164Z"
    },
    "papermill": {
     "duration": 0.026751,
     "end_time": "2024-04-19T21:09:42.033431",
     "exception": false,
     "start_time": "2024-04-19T21:09:42.006680",
     "status": "completed"
    },
    "tags": []
   },
   "outputs": [],
   "source": [
    "\n"
   ]
  },
  {
   "cell_type": "code",
   "execution_count": 52,
   "id": "3c166b70",
   "metadata": {
    "execution": {
     "iopub.execute_input": "2024-04-19T21:09:42.088937Z",
     "iopub.status.busy": "2024-04-19T21:09:42.088482Z",
     "iopub.status.idle": "2024-04-19T21:09:42.096318Z",
     "shell.execute_reply": "2024-04-19T21:09:42.095132Z"
    },
    "papermill": {
     "duration": 0.038676,
     "end_time": "2024-04-19T21:09:42.098837",
     "exception": false,
     "start_time": "2024-04-19T21:09:42.060161",
     "status": "completed"
    },
    "tags": []
   },
   "outputs": [
    {
     "data": {
      "text/plain": [
       "0.815471965933286"
      ]
     },
     "execution_count": 52,
     "metadata": {},
     "output_type": "execute_result"
    }
   ],
   "source": [
    "(y_TTest==churn_d).mean()"
   ]
  }
 ],
 "metadata": {
  "kaggle": {
   "accelerator": "none",
   "dataSources": [
    {
     "datasetId": 13996,
     "sourceId": 18858,
     "sourceType": "datasetVersion"
    }
   ],
   "dockerImageVersionId": 30673,
   "isGpuEnabled": false,
   "isInternetEnabled": false,
   "language": "python",
   "sourceType": "notebook"
  },
  "kernelspec": {
   "display_name": "Python 3",
   "language": "python",
   "name": "python3"
  },
  "language_info": {
   "codemirror_mode": {
    "name": "ipython",
    "version": 3
   },
   "file_extension": ".py",
   "mimetype": "text/x-python",
   "name": "python",
   "nbconvert_exporter": "python",
   "pygments_lexer": "ipython3",
   "version": "3.10.13"
  },
  "papermill": {
   "default_parameters": {},
   "duration": 12.689484,
   "end_time": "2024-04-19T21:09:42.848683",
   "environment_variables": {},
   "exception": null,
   "input_path": "__notebook__.ipynb",
   "output_path": "__notebook__.ipynb",
   "parameters": {},
   "start_time": "2024-04-19T21:09:30.159199",
   "version": "2.5.0"
  }
 },
 "nbformat": 4,
 "nbformat_minor": 5
}
